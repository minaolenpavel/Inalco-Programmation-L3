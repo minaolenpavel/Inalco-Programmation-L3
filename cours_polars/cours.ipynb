{
 "cells": [
  {
   "cell_type": "markdown",
   "id": "0a94c2e7-0c2d-4de1-9bd6-a487ecb70f22",
   "metadata": {},
   "source": [
    "# 1. La librairie Polars\n",
    "\n",
    "Laura Darenne, laura.darenne@inalco.fr\n",
    "\n",
    "## 1.1. Rappel sur la création d'un environnement\n",
    "\n",
    "Pour créer un environnement python : `python -m venv env_name`.\n",
    "\n",
    "Pour activer l'environnement : `source env_name/bin/activate`.\n",
    "\n",
    "Pour afficher toutes les librairies et les dépendances téléchargées dans l'environnement : `pip freeze`.\n",
    "\n",
    "Pour désactiver l'environnement : `deactivate`.\n",
    "\n",
    "Pour supprimer un environnement : `rm -r env_name`.\n",
    "\n",
    "## 1.2. Installation de la librairie polars\n",
    "\n",
    "Pour installer la librairie polars : `pip install \"polars[all]\"`.\n",
    "\n",
    "Pour importer la librairie : `import polars as pl`.\n",
    "\n",
    "## 1.3. Rappel des différents types de fichiers\n",
    "\n",
    "### CSV, *Comma-separated values*\n",
    "\n",
    "Un fichier CSV est un fichier texte où les valeurs sont séparées par des virgules. Chaque ligne correspond à une information.\n",
    "\n",
    "```csv\n",
    "Nom,Âge,Ville\n",
    "Alice,30,Paris\n",
    "Bob,25,Lyon\n",
    "```\n",
    "\n",
    "### TSV, *Tab-separated values*\n",
    "\n",
    "Un fichier TSV est similaire à un CSV, mais les valeurs sont séparées par des tabulations au lieu de virgules.\n",
    "\n",
    "```tsv\n",
    "Nom   Âge    Ville\n",
    "Alice  30    Paris\n",
    "Bob    25    Lyon\n",
    "```\n",
    "\n",
    "### JSON, *JavaScript Object Notation*\n",
    "\n",
    "JSON est à l'origine un format de données textuel dérivé de la notation des objets du langage JavaScript. C'est un format léger d'échange de données, facile à lire et à écrire pour les humains, et facile à analyser et à générer pour les machines. Il est basé sur une collection de paires clé/valeur.\n",
    "\n",
    "```json\n",
    "[\n",
    "  {\"Nom\": \"Alice\", \"Âge\": 30, \"Ville\": \"Paris\"},\n",
    "  {\"Nom\": \"Bob\", \"Âge\": 25, \"Ville\": \"Lyon\"}\n",
    "]\n",
    "```\n",
    "\n",
    "### JSONL, *JSON Lines*\n",
    "\n",
    "JSONL est un format où chaque ligne est un objet JSON. C'est utile pour traiter des flux de données ou des fichiers volumineux.\n",
    "\n",
    "```json\n",
    "{\"Nom\": \"Alice\", \"Âge\": 30, \"Ville\": \"Paris\"}\n",
    "{\"Nom\": \"Bob\", \"Âge\": 25, \"Ville\": \"Lyon\"}\n",
    "```\n",
    "\n",
    "## 1.4. Polars, Pandas et les dataframes\n",
    "\n",
    "Les dataframes sont une structure de données utilisée pour organiser, manipuler et stocker des données de manière tabulaire, similaire à une feuille de calcul ou à une table dans une base de données relationnelle.\n",
    "\n",
    "1. Un dataframe est composé de lignes et de colonnes corresondant à des *observations* et à des *séries*.\n",
    "2. Les colonnes d'un dataframe peuvent contenir des types de données différents : des entiers, des flottants, des chaînes de caractères, etc.\n",
    "3. Les dataframes offrent des méthodes intégrées pour filtrer, trier, agréger, fusionner et joindre des données, ce qui rend la manipulation des données plus intuitive et plus rapide.\n",
    "4. Les dataframes sont compatibles avec de nombreux formats de données, y compris CSV, JSON, Excel, SQL, etc., ce qui facilite l'importation et l'exportation de données.\n",
    "5. Les dataframes sont souvent utilisés dans l'analyse des données car ils permettent de calculer facilement des statistiques descriptives, de gérer les valeurs manquantes, et de visualiser les données.\n",
    "\n",
    "## 1.5. Pourquoi utilisé cela plutôt que d'ouvrir le fichier avec la fonction `with open()` ?\n",
    "\n",
    "Polars est codé en `Rust` et a été conçu pour simplifier la lecture, l'écriture et la manipulation des données (parfois en quantité importante). Polars exploite les calculs parallèles pour traiter rapidement de grandes quantités de données alors que `with open()` nécessite de parcourir les fichiers ligne par ligne ce qui est moins efficace pour les gros volumes de données.\n",
    "\n",
    "Les dataframes permettent aussi tout une panoplie d'outils pour la manipulation des données : le filtrage, le tri, l'agrégation, et la transformation. Ils gèrent automatiquement les types de données (et leurs erreurs associées) alors que `with open()` nécessite une conversion manuelle des types de données à partir des chaînes de caractères lues. \n",
    "\n",
    "Les dataframes sont également compatibles avec de nombreux outils (comprendre librairies) d'analyse et de visualisation.\n",
    "\n",
    "# 2. Et tout de suite le TP"
   ]
  },
  {
   "cell_type": "code",
   "execution_count": 23,
   "id": "35c83205-abc4-415d-b08b-71d67be99480",
   "metadata": {},
   "outputs": [],
   "source": [
    "import polars as pl"
   ]
  },
  {
   "cell_type": "markdown",
   "id": "a14bf7c9-a32d-4b94-b44f-dffffc4bf272",
   "metadata": {},
   "source": [
    "## 2.1. Créer un dataframe"
   ]
  },
  {
   "cell_type": "code",
   "execution_count": 24,
   "id": "05b75862-af28-4263-97d6-067006a0636d",
   "metadata": {},
   "outputs": [
    {
     "data": {
      "text/html": [
       "<div><style>\n",
       ".dataframe > thead > tr,\n",
       ".dataframe > tbody > tr {\n",
       "  text-align: right;\n",
       "  white-space: pre-wrap;\n",
       "}\n",
       "</style>\n",
       "<small>shape: (3, 3)</small><table border=\"1\" class=\"dataframe\"><thead><tr><th>A</th><th>B</th><th>C</th></tr><tr><td>i64</td><td>str</td><td>list[i64]</td></tr></thead><tbody><tr><td>1</td><td>&quot;a&quot;</td><td>[1, 2]</td></tr><tr><td>2</td><td>&quot;b&quot;</td><td>[3, 4]</td></tr><tr><td>3</td><td>&quot;c&quot;</td><td>[5, 6]</td></tr></tbody></table></div>"
      ],
      "text/plain": [
       "shape: (3, 3)\n",
       "┌─────┬─────┬───────────┐\n",
       "│ A   ┆ B   ┆ C         │\n",
       "│ --- ┆ --- ┆ ---       │\n",
       "│ i64 ┆ str ┆ list[i64] │\n",
       "╞═════╪═════╪═══════════╡\n",
       "│ 1   ┆ a   ┆ [1, 2]    │\n",
       "│ 2   ┆ b   ┆ [3, 4]    │\n",
       "│ 3   ┆ c   ┆ [5, 6]    │\n",
       "└─────┴─────┴───────────┘"
      ]
     },
     "execution_count": 24,
     "metadata": {},
     "output_type": "execute_result"
    }
   ],
   "source": [
    "# à partir d'un dictionnaire\n",
    "tableau = {\n",
    "    'A': [1, 2, 3], \n",
    "    'B': ['a', 'b', 'c'], \n",
    "    'C': [[1, 2], [3, 4], [5, 6]]\n",
    "}\n",
    "df = pl.DataFrame(tableau)\n",
    "df"
   ]
  },
  {
   "cell_type": "code",
   "execution_count": 25,
   "id": "493fe917-4036-4326-ae94-583830d6c95f",
   "metadata": {},
   "outputs": [
    {
     "data": {
      "text/html": [
       "<div><style>\n",
       ".dataframe > thead > tr,\n",
       ".dataframe > tbody > tr {\n",
       "  text-align: right;\n",
       "  white-space: pre-wrap;\n",
       "}\n",
       "</style>\n",
       "<small>shape: (3, 2)</small><table border=\"1\" class=\"dataframe\"><thead><tr><th>A</th><th>B</th></tr><tr><td>i64</td><td>str</td></tr></thead><tbody><tr><td>1</td><td>&quot;a&quot;</td></tr><tr><td>2</td><td>&quot;b&quot;</td></tr><tr><td>3</td><td>&quot;c&quot;</td></tr></tbody></table></div>"
      ],
      "text/plain": [
       "shape: (3, 2)\n",
       "┌─────┬─────┐\n",
       "│ A   ┆ B   │\n",
       "│ --- ┆ --- │\n",
       "│ i64 ┆ str │\n",
       "╞═════╪═════╡\n",
       "│ 1   ┆ a   │\n",
       "│ 2   ┆ b   │\n",
       "│ 3   ┆ c   │\n",
       "└─────┴─────┘"
      ]
     },
     "execution_count": 25,
     "metadata": {},
     "output_type": "execute_result"
    }
   ],
   "source": [
    "# à partir d'une liste de dictionnaire\n",
    "tableau = [\n",
    "    {'A': 1, 'B': 'a'}, \n",
    "    {'A': 2, 'B': 'b'},\n",
    "    {'A': 3, 'B': 'c'}\n",
    "]\n",
    "df = pl.DataFrame(tableau)\n",
    "df"
   ]
  },
  {
   "cell_type": "markdown",
   "id": "06582600-2ae3-4567-810a-f1a1b2cf30a9",
   "metadata": {},
   "source": [
    "## 2.2. Découverte des données\n",
    "\n",
    "\n",
    "2 fichiers CSV :\n",
    "- comments.csv\n",
    "- videos.csv\n",
    "\n",
    "\n",
    "lien ici : https://filesender.renater.fr/?s=download&token=9cd2048f-28c3-47d4-9ba3-9b8194a1bbae/\n",
    "\n",
    "Pour ouvrir un fichier avec Polars, vous pouvez vous référer à la documentation ici : https://docs.pola.rs/api/python/stable/reference/io.html\n",
    "\n",
    "Un fichier CSV s'ouvre comme ceci :"
   ]
  },
  {
   "cell_type": "code",
   "execution_count": 26,
   "id": "b465216d-1d3f-4810-995b-7c50e5874d51",
   "metadata": {},
   "outputs": [
    {
     "data": {
      "text/html": [
       "<div><style>\n",
       ".dataframe > thead > tr,\n",
       ".dataframe > tbody > tr {\n",
       "  text-align: right;\n",
       "  white-space: pre-wrap;\n",
       "}\n",
       "</style>\n",
       "<small>shape: (5, 10)</small><table border=\"1\" class=\"dataframe\"><thead><tr><th>video_id</th><th>video_title</th><th>published_at</th><th>channel_id</th><th>view_count</th><th>like_count</th><th>comment_count</th><th>has_captions</th><th>category</th><th>tags</th></tr><tr><td>str</td><td>str</td><td>str</td><td>str</td><td>i64</td><td>i64</td><td>i64</td><td>bool</td><td>str</td><td>str</td></tr></thead><tbody><tr><td>&quot;1_UCKSs88fw&quot;</td><td>&quot;ÉTAT DE LA FRANCE : CE MENSONG…</td><td>&quot;2025-01-19T16:45:53Z&quot;</td><td>&quot;UC9hHeywcPBnLglqnQRaNShQ&quot;</td><td>121721</td><td>11072</td><td>749</td><td>false</td><td>&quot;News &amp; Politics&quot;</td><td>&quot;trump|macron|investiture|bayro…</td></tr><tr><td>&quot;Hc9UD6iilNY&quot;</td><td>&quot;FRANCE : LA SITUATION POLITIQU…</td><td>&quot;2024-12-22T16:30:04Z&quot;</td><td>&quot;UC9hHeywcPBnLglqnQRaNShQ&quot;</td><td>68517</td><td>6937</td><td>566</td><td>false</td><td>&quot;News &amp; Politics&quot;</td><td>&quot;macron|bayrou|1er ministre|que…</td></tr><tr><td>&quot;-32lgROAmDQ&quot;</td><td>&quot;QUI VEUT LA PEAU DES AGRICULTE…</td><td>&quot;2024-11-25T16:37:23Z&quot;</td><td>&quot;UC9hHeywcPBnLglqnQRaNShQ&quot;</td><td>57009</td><td>6944</td><td>696</td><td>false</td><td>&quot;News &amp; Politics&quot;</td><td>&quot;agriculteur|en colère|agricult…</td></tr><tr><td>&quot;BI_fweGoRJU&quot;</td><td>&quot;TRUMP RÉÉLU : QUELLES IMPLICAT…</td><td>&quot;2024-11-12T16:29:44Z&quot;</td><td>&quot;UC9hHeywcPBnLglqnQRaNShQ&quot;</td><td>129165</td><td>11879</td><td>1327</td><td>false</td><td>&quot;News &amp; Politics&quot;</td><td>&quot;trump|elon musk|tesla|starligh…</td></tr><tr><td>&quot;D1pQ6c1T8X4&quot;</td><td>&quot;MOLDAVIE, GÉORGIE, BRICS : L&#x27;E…</td><td>&quot;2024-10-31T16:37:10Z&quot;</td><td>&quot;UC9hHeywcPBnLglqnQRaNShQ&quot;</td><td>166996</td><td>14032</td><td>1206</td><td>false</td><td>&quot;News &amp; Politics&quot;</td><td>&quot;macron|barnier|économie|budget…</td></tr></tbody></table></div>"
      ],
      "text/plain": [
       "shape: (5, 10)\n",
       "┌───────────┬───────────┬───────────┬───────────┬───┬───────────┬───────────┬───────────┬──────────┐\n",
       "│ video_id  ┆ video_tit ┆ published ┆ channel_i ┆ … ┆ comment_c ┆ has_capti ┆ category  ┆ tags     │\n",
       "│ ---       ┆ le        ┆ _at       ┆ d         ┆   ┆ ount      ┆ ons       ┆ ---       ┆ ---      │\n",
       "│ str       ┆ ---       ┆ ---       ┆ ---       ┆   ┆ ---       ┆ ---       ┆ str       ┆ str      │\n",
       "│           ┆ str       ┆ str       ┆ str       ┆   ┆ i64       ┆ bool      ┆           ┆          │\n",
       "╞═══════════╪═══════════╪═══════════╪═══════════╪═══╪═══════════╪═══════════╪═══════════╪══════════╡\n",
       "│ 1_UCKSs88 ┆ ÉTAT DE   ┆ 2025-01-1 ┆ UC9hHeywc ┆ … ┆ 749       ┆ false     ┆ News &    ┆ trump|ma │\n",
       "│ fw        ┆ LA        ┆ 9T16:45:5 ┆ PBnLglqnQ ┆   ┆           ┆           ┆ Politics  ┆ cron|inv │\n",
       "│           ┆ FRANCE :  ┆ 3Z        ┆ RaNShQ    ┆   ┆           ┆           ┆           ┆ estiture │\n",
       "│           ┆ CE        ┆           ┆           ┆   ┆           ┆           ┆           ┆ |bayro…  │\n",
       "│           ┆ MENSONG…  ┆           ┆           ┆   ┆           ┆           ┆           ┆          │\n",
       "│ Hc9UD6iil ┆ FRANCE :  ┆ 2024-12-2 ┆ UC9hHeywc ┆ … ┆ 566       ┆ false     ┆ News &    ┆ macron|b │\n",
       "│ NY        ┆ LA        ┆ 2T16:30:0 ┆ PBnLglqnQ ┆   ┆           ┆           ┆ Politics  ┆ ayrou|1e │\n",
       "│           ┆ SITUATION ┆ 4Z        ┆ RaNShQ    ┆   ┆           ┆           ┆           ┆ r minist │\n",
       "│           ┆ POLITIQU… ┆           ┆           ┆   ┆           ┆           ┆           ┆ re|que…  │\n",
       "│ -32lgROAm ┆ QUI VEUT  ┆ 2024-11-2 ┆ UC9hHeywc ┆ … ┆ 696       ┆ false     ┆ News &    ┆ agricult │\n",
       "│ DQ        ┆ LA PEAU   ┆ 5T16:37:2 ┆ PBnLglqnQ ┆   ┆           ┆           ┆ Politics  ┆ eur|en   │\n",
       "│           ┆ DES AGRIC ┆ 3Z        ┆ RaNShQ    ┆   ┆           ┆           ┆           ┆ colère|a │\n",
       "│           ┆ ULTE…     ┆           ┆           ┆   ┆           ┆           ┆           ┆ gricult… │\n",
       "│ BI_fweGoR ┆ TRUMP     ┆ 2024-11-1 ┆ UC9hHeywc ┆ … ┆ 1327      ┆ false     ┆ News &    ┆ trump|el │\n",
       "│ JU        ┆ RÉÉLU :   ┆ 2T16:29:4 ┆ PBnLglqnQ ┆   ┆           ┆           ┆ Politics  ┆ on musk| │\n",
       "│           ┆ QUELLES   ┆ 4Z        ┆ RaNShQ    ┆   ┆           ┆           ┆           ┆ tesla|st │\n",
       "│           ┆ IMPLICAT… ┆           ┆           ┆   ┆           ┆           ┆           ┆ arligh…  │\n",
       "│ D1pQ6c1T8 ┆ MOLDAVIE, ┆ 2024-10-3 ┆ UC9hHeywc ┆ … ┆ 1206      ┆ false     ┆ News &    ┆ macron|b │\n",
       "│ X4        ┆ GÉORGIE,  ┆ 1T16:37:1 ┆ PBnLglqnQ ┆   ┆           ┆           ┆ Politics  ┆ arnier|é │\n",
       "│           ┆ BRICS :   ┆ 0Z        ┆ RaNShQ    ┆   ┆           ┆           ┆           ┆ conomie| │\n",
       "│           ┆ L'E…      ┆           ┆           ┆   ┆           ┆           ┆           ┆ budget…  │\n",
       "└───────────┴───────────┴───────────┴───────────┴───┴───────────┴───────────┴───────────┴──────────┘"
      ]
     },
     "execution_count": 26,
     "metadata": {},
     "output_type": "execute_result"
    }
   ],
   "source": [
    "df = pl.read_csv('videos.csv', separator=',')\n",
    "df.head() # permet de n'observer que les 5 premières lignes"
   ]
  },
  {
   "cell_type": "markdown",
   "id": "79af4ef9-56a7-4855-ac7e-b40f83b97950",
   "metadata": {},
   "source": [
    "#### Le fichier videos.csv\n",
    "\n",
    "Le fichier *videos.csv* est composé des metadonnées de vidéos extraits de YouTube. Il est composé comme ceci.\n",
    "\n",
    "|Variable|Description|Type|\n",
    "|:-:|:-|:-:|\n",
    "|*video_id*|identifiant unique donné par YouTube à la vidéo|String|\n",
    "|*video_title*|titre de la vidéo|String|\n",
    "|*published_at*|date et heure de publication à l'origine au format ISO 8601 mais transformé juste après au format Datetime|Datetime|\n",
    "|*channel_id*|identifiant unique donné par YouTube à la chaîne|String|\n",
    "|*view_count, like_count, comment_count*|nombre de vues, likes, commentaires de la vidéo|Int64|\n",
    "|*has_captions*|Facteur à deux niveaux pour qualifier les résidents de Toronto (*Yes*) et les autres (*No*).|Bool|\n",
    "|*category*|nom de la catégorie donné par le youtubeur|String|\n",
    "|*tags*|liste de mots choisis par le youtubeur, s’il le souhaite, pour décrire la vidéo|String|\n",
    "\n",
    "Le format de date ISO 8601 se compose comme ceci :\n",
    "- `2024-07-16T16:07:10Z`\n",
    "- `annee-mois-joursTheures:minutes:secondesZ`\n",
    "\n",
    "`datetime` est un format python pour la manipulation des dates et des heures. "
   ]
  },
  {
   "cell_type": "code",
   "execution_count": 27,
   "id": "8e11f167-2402-4690-818c-346fd6522615",
   "metadata": {},
   "outputs": [
    {
     "data": {
      "text/html": [
       "<div><style>\n",
       ".dataframe > thead > tr,\n",
       ".dataframe > tbody > tr {\n",
       "  text-align: right;\n",
       "  white-space: pre-wrap;\n",
       "}\n",
       "</style>\n",
       "<small>shape: (5, 10)</small><table border=\"1\" class=\"dataframe\"><thead><tr><th>video_id</th><th>video_title</th><th>published_at</th><th>channel_id</th><th>view_count</th><th>like_count</th><th>comment_count</th><th>has_captions</th><th>category</th><th>tags</th></tr><tr><td>str</td><td>str</td><td>datetime[μs, UTC]</td><td>str</td><td>i64</td><td>i64</td><td>i64</td><td>bool</td><td>str</td><td>str</td></tr></thead><tbody><tr><td>&quot;1_UCKSs88fw&quot;</td><td>&quot;ÉTAT DE LA FRANCE : CE MENSONG…</td><td>2025-01-19 16:45:53 UTC</td><td>&quot;UC9hHeywcPBnLglqnQRaNShQ&quot;</td><td>121721</td><td>11072</td><td>749</td><td>false</td><td>&quot;News &amp; Politics&quot;</td><td>&quot;trump|macron|investiture|bayro…</td></tr><tr><td>&quot;Hc9UD6iilNY&quot;</td><td>&quot;FRANCE : LA SITUATION POLITIQU…</td><td>2024-12-22 16:30:04 UTC</td><td>&quot;UC9hHeywcPBnLglqnQRaNShQ&quot;</td><td>68517</td><td>6937</td><td>566</td><td>false</td><td>&quot;News &amp; Politics&quot;</td><td>&quot;macron|bayrou|1er ministre|que…</td></tr><tr><td>&quot;-32lgROAmDQ&quot;</td><td>&quot;QUI VEUT LA PEAU DES AGRICULTE…</td><td>2024-11-25 16:37:23 UTC</td><td>&quot;UC9hHeywcPBnLglqnQRaNShQ&quot;</td><td>57009</td><td>6944</td><td>696</td><td>false</td><td>&quot;News &amp; Politics&quot;</td><td>&quot;agriculteur|en colère|agricult…</td></tr><tr><td>&quot;BI_fweGoRJU&quot;</td><td>&quot;TRUMP RÉÉLU : QUELLES IMPLICAT…</td><td>2024-11-12 16:29:44 UTC</td><td>&quot;UC9hHeywcPBnLglqnQRaNShQ&quot;</td><td>129165</td><td>11879</td><td>1327</td><td>false</td><td>&quot;News &amp; Politics&quot;</td><td>&quot;trump|elon musk|tesla|starligh…</td></tr><tr><td>&quot;D1pQ6c1T8X4&quot;</td><td>&quot;MOLDAVIE, GÉORGIE, BRICS : L&#x27;E…</td><td>2024-10-31 16:37:10 UTC</td><td>&quot;UC9hHeywcPBnLglqnQRaNShQ&quot;</td><td>166996</td><td>14032</td><td>1206</td><td>false</td><td>&quot;News &amp; Politics&quot;</td><td>&quot;macron|barnier|économie|budget…</td></tr></tbody></table></div>"
      ],
      "text/plain": [
       "shape: (5, 10)\n",
       "┌───────────┬───────────┬───────────┬───────────┬───┬───────────┬───────────┬───────────┬──────────┐\n",
       "│ video_id  ┆ video_tit ┆ published ┆ channel_i ┆ … ┆ comment_c ┆ has_capti ┆ category  ┆ tags     │\n",
       "│ ---       ┆ le        ┆ _at       ┆ d         ┆   ┆ ount      ┆ ons       ┆ ---       ┆ ---      │\n",
       "│ str       ┆ ---       ┆ ---       ┆ ---       ┆   ┆ ---       ┆ ---       ┆ str       ┆ str      │\n",
       "│           ┆ str       ┆ datetime[ ┆ str       ┆   ┆ i64       ┆ bool      ┆           ┆          │\n",
       "│           ┆           ┆ μs, UTC]  ┆           ┆   ┆           ┆           ┆           ┆          │\n",
       "╞═══════════╪═══════════╪═══════════╪═══════════╪═══╪═══════════╪═══════════╪═══════════╪══════════╡\n",
       "│ 1_UCKSs88 ┆ ÉTAT DE   ┆ 2025-01-1 ┆ UC9hHeywc ┆ … ┆ 749       ┆ false     ┆ News &    ┆ trump|ma │\n",
       "│ fw        ┆ LA        ┆ 9         ┆ PBnLglqnQ ┆   ┆           ┆           ┆ Politics  ┆ cron|inv │\n",
       "│           ┆ FRANCE :  ┆ 16:45:53  ┆ RaNShQ    ┆   ┆           ┆           ┆           ┆ estiture │\n",
       "│           ┆ CE        ┆ UTC       ┆           ┆   ┆           ┆           ┆           ┆ |bayro…  │\n",
       "│           ┆ MENSONG…  ┆           ┆           ┆   ┆           ┆           ┆           ┆          │\n",
       "│ Hc9UD6iil ┆ FRANCE :  ┆ 2024-12-2 ┆ UC9hHeywc ┆ … ┆ 566       ┆ false     ┆ News &    ┆ macron|b │\n",
       "│ NY        ┆ LA        ┆ 2         ┆ PBnLglqnQ ┆   ┆           ┆           ┆ Politics  ┆ ayrou|1e │\n",
       "│           ┆ SITUATION ┆ 16:30:04  ┆ RaNShQ    ┆   ┆           ┆           ┆           ┆ r minist │\n",
       "│           ┆ POLITIQU… ┆ UTC       ┆           ┆   ┆           ┆           ┆           ┆ re|que…  │\n",
       "│ -32lgROAm ┆ QUI VEUT  ┆ 2024-11-2 ┆ UC9hHeywc ┆ … ┆ 696       ┆ false     ┆ News &    ┆ agricult │\n",
       "│ DQ        ┆ LA PEAU   ┆ 5         ┆ PBnLglqnQ ┆   ┆           ┆           ┆ Politics  ┆ eur|en   │\n",
       "│           ┆ DES AGRIC ┆ 16:37:23  ┆ RaNShQ    ┆   ┆           ┆           ┆           ┆ colère|a │\n",
       "│           ┆ ULTE…     ┆ UTC       ┆           ┆   ┆           ┆           ┆           ┆ gricult… │\n",
       "│ BI_fweGoR ┆ TRUMP     ┆ 2024-11-1 ┆ UC9hHeywc ┆ … ┆ 1327      ┆ false     ┆ News &    ┆ trump|el │\n",
       "│ JU        ┆ RÉÉLU :   ┆ 2         ┆ PBnLglqnQ ┆   ┆           ┆           ┆ Politics  ┆ on musk| │\n",
       "│           ┆ QUELLES   ┆ 16:29:44  ┆ RaNShQ    ┆   ┆           ┆           ┆           ┆ tesla|st │\n",
       "│           ┆ IMPLICAT… ┆ UTC       ┆           ┆   ┆           ┆           ┆           ┆ arligh…  │\n",
       "│ D1pQ6c1T8 ┆ MOLDAVIE, ┆ 2024-10-3 ┆ UC9hHeywc ┆ … ┆ 1206      ┆ false     ┆ News &    ┆ macron|b │\n",
       "│ X4        ┆ GÉORGIE,  ┆ 1         ┆ PBnLglqnQ ┆   ┆           ┆           ┆ Politics  ┆ arnier|é │\n",
       "│           ┆ BRICS :   ┆ 16:37:10  ┆ RaNShQ    ┆   ┆           ┆           ┆           ┆ conomie| │\n",
       "│           ┆ L'E…      ┆ UTC       ┆           ┆   ┆           ┆           ┆           ┆ budget…  │\n",
       "└───────────┴───────────┴───────────┴───────────┴───┴───────────┴───────────┴───────────┴──────────┘"
      ]
     },
     "execution_count": 27,
     "metadata": {},
     "output_type": "execute_result"
    }
   ],
   "source": [
    "df = df.with_columns(\n",
    "    pl.col('published_at').str.to_datetime()\n",
    ") \n",
    "df.head()"
   ]
  },
  {
   "cell_type": "markdown",
   "id": "e254de40-a5b8-46d4-b2ed-612f1d82cd2b",
   "metadata": {},
   "source": [
    "## 2.3. Jouer avec les colonnes et les lignes"
   ]
  },
  {
   "cell_type": "markdown",
   "id": "7b344dfd-380d-4c77-9920-0b95530c3880",
   "metadata": {},
   "source": [
    "Vous pouvez aussi obtenir la liste des noms de colonnes :"
   ]
  },
  {
   "cell_type": "code",
   "execution_count": 28,
   "id": "08a6b483-2846-4b8c-a12d-a306f2238ada",
   "metadata": {},
   "outputs": [
    {
     "data": {
      "text/plain": [
       "['video_id',\n",
       " 'video_title',\n",
       " 'published_at',\n",
       " 'channel_id',\n",
       " 'view_count',\n",
       " 'like_count',\n",
       " 'comment_count',\n",
       " 'has_captions',\n",
       " 'category',\n",
       " 'tags']"
      ]
     },
     "execution_count": 28,
     "metadata": {},
     "output_type": "execute_result"
    }
   ],
   "source": [
    "df.columns"
   ]
  },
  {
   "cell_type": "code",
   "execution_count": 29,
   "id": "12e7a515-145c-4020-b3b9-425506e77879",
   "metadata": {},
   "outputs": [
    {
     "data": {
      "text/plain": [
       "list"
      ]
     },
     "execution_count": 29,
     "metadata": {},
     "output_type": "execute_result"
    }
   ],
   "source": [
    "type(df.columns)"
   ]
  },
  {
   "cell_type": "markdown",
   "id": "9fc63ed1-b7f6-494c-8e08-9929904456c6",
   "metadata": {},
   "source": [
    "La taille de votre dataframe :"
   ]
  },
  {
   "cell_type": "code",
   "execution_count": 30,
   "id": "65f6774f-9f20-4482-8e7e-a23dfd1757a7",
   "metadata": {},
   "outputs": [
    {
     "data": {
      "text/plain": [
       "(370, 10)"
      ]
     },
     "execution_count": 30,
     "metadata": {},
     "output_type": "execute_result"
    }
   ],
   "source": [
    "df.shape"
   ]
  },
  {
   "cell_type": "code",
   "execution_count": 31,
   "id": "8f3ad21d-06bd-4d9f-a3d0-ff50a6f270a0",
   "metadata": {},
   "outputs": [
    {
     "data": {
      "text/plain": [
       "tuple"
      ]
     },
     "execution_count": 31,
     "metadata": {},
     "output_type": "execute_result"
    }
   ],
   "source": [
    "type(df.shape)"
   ]
  },
  {
   "cell_type": "markdown",
   "id": "054bc7dc-4e88-40ae-8da0-9c65501ce7cd",
   "metadata": {},
   "source": [
    "Le nombre d'observations :"
   ]
  },
  {
   "cell_type": "code",
   "execution_count": 32,
   "id": "fa235ab2-a113-4ab5-a561-253a210f53a9",
   "metadata": {},
   "outputs": [
    {
     "data": {
      "text/plain": [
       "370"
      ]
     },
     "execution_count": 32,
     "metadata": {},
     "output_type": "execute_result"
    }
   ],
   "source": [
    "df.height"
   ]
  },
  {
   "cell_type": "code",
   "execution_count": 33,
   "id": "98c7c512-5502-49c3-a043-d8e17c825606",
   "metadata": {},
   "outputs": [
    {
     "data": {
      "text/plain": [
       "int"
      ]
     },
     "execution_count": 33,
     "metadata": {},
     "output_type": "execute_result"
    }
   ],
   "source": [
    "type(df.height)"
   ]
  },
  {
   "cell_type": "markdown",
   "id": "3e277983-4bcf-469a-9ab2-310f84e6f42d",
   "metadata": {},
   "source": [
    "Le nombre de séries :"
   ]
  },
  {
   "cell_type": "code",
   "execution_count": 34,
   "id": "1012f45a-a0d7-4958-9097-d51f4cd46af2",
   "metadata": {},
   "outputs": [
    {
     "data": {
      "text/plain": [
       "10"
      ]
     },
     "execution_count": 34,
     "metadata": {},
     "output_type": "execute_result"
    }
   ],
   "source": [
    "df.width"
   ]
  },
  {
   "cell_type": "markdown",
   "id": "aa270c01-c8a2-48b6-8213-0ec15cf9398d",
   "metadata": {},
   "source": [
    "Chaque série (colonne) peut être interrogée individuellement comme ceci :"
   ]
  },
  {
   "cell_type": "code",
   "execution_count": 35,
   "id": "d4706009-5753-4a3c-92a7-54346d3e6951",
   "metadata": {},
   "outputs": [
    {
     "data": {
      "text/html": [
       "<div><style>\n",
       ".dataframe > thead > tr,\n",
       ".dataframe > tbody > tr {\n",
       "  text-align: right;\n",
       "  white-space: pre-wrap;\n",
       "}\n",
       "</style>\n",
       "<small>shape: (370,)</small><table border=\"1\" class=\"dataframe\"><thead><tr><th>video_id</th></tr><tr><td>str</td></tr></thead><tbody><tr><td>&quot;1_UCKSs88fw&quot;</td></tr><tr><td>&quot;Hc9UD6iilNY&quot;</td></tr><tr><td>&quot;-32lgROAmDQ&quot;</td></tr><tr><td>&quot;BI_fweGoRJU&quot;</td></tr><tr><td>&quot;D1pQ6c1T8X4&quot;</td></tr><tr><td>&hellip;</td></tr><tr><td>&quot;vxZ6U0Njc6M&quot;</td></tr><tr><td>&quot;WPbT04SgpzY&quot;</td></tr><tr><td>&quot;e3MvTSKhcLA&quot;</td></tr><tr><td>&quot;PTM5AzmhmNk&quot;</td></tr><tr><td>&quot;Gx75guyRGJY&quot;</td></tr></tbody></table></div>"
      ],
      "text/plain": [
       "shape: (370,)\n",
       "Series: 'video_id' [str]\n",
       "[\n",
       "\t\"1_UCKSs88fw\"\n",
       "\t\"Hc9UD6iilNY\"\n",
       "\t\"-32lgROAmDQ\"\n",
       "\t\"BI_fweGoRJU\"\n",
       "\t\"D1pQ6c1T8X4\"\n",
       "\t…\n",
       "\t\"vxZ6U0Njc6M\"\n",
       "\t\"WPbT04SgpzY\"\n",
       "\t\"e3MvTSKhcLA\"\n",
       "\t\"PTM5AzmhmNk\"\n",
       "\t\"Gx75guyRGJY\"\n",
       "]"
      ]
     },
     "execution_count": 35,
     "metadata": {},
     "output_type": "execute_result"
    }
   ],
   "source": [
    "df[\"video_id\"]"
   ]
  },
  {
   "cell_type": "markdown",
   "id": "03a98df2-8be6-4d32-8610-23d7927b7999",
   "metadata": {},
   "source": [
    "La technique du slicing permet d'accéder à des observations :"
   ]
  },
  {
   "cell_type": "code",
   "execution_count": 36,
   "id": "8384f6bd-cd25-4e0c-9e83-74908ba948ff",
   "metadata": {},
   "outputs": [
    {
     "data": {
      "text/html": [
       "<div><style>\n",
       ".dataframe > thead > tr,\n",
       ".dataframe > tbody > tr {\n",
       "  text-align: right;\n",
       "  white-space: pre-wrap;\n",
       "}\n",
       "</style>\n",
       "<small>shape: (1, 10)</small><table border=\"1\" class=\"dataframe\"><thead><tr><th>video_id</th><th>video_title</th><th>published_at</th><th>channel_id</th><th>view_count</th><th>like_count</th><th>comment_count</th><th>has_captions</th><th>category</th><th>tags</th></tr><tr><td>str</td><td>str</td><td>datetime[μs, UTC]</td><td>str</td><td>i64</td><td>i64</td><td>i64</td><td>bool</td><td>str</td><td>str</td></tr></thead><tbody><tr><td>&quot;8gR67m5pPak&quot;</td><td>&quot;DÉFICIT : C&#x27;EST PIRE QUE VOUS …</td><td>2024-09-29 16:04:15 UTC</td><td>&quot;UC9hHeywcPBnLglqnQRaNShQ&quot;</td><td>323930</td><td>19829</td><td>2163</td><td>false</td><td>&quot;News &amp; Politics&quot;</td><td>&quot;déficit|dette|taux|emprunt|tou…</td></tr></tbody></table></div>"
      ],
      "text/plain": [
       "shape: (1, 10)\n",
       "┌───────────┬───────────┬───────────┬───────────┬───┬───────────┬───────────┬───────────┬──────────┐\n",
       "│ video_id  ┆ video_tit ┆ published ┆ channel_i ┆ … ┆ comment_c ┆ has_capti ┆ category  ┆ tags     │\n",
       "│ ---       ┆ le        ┆ _at       ┆ d         ┆   ┆ ount      ┆ ons       ┆ ---       ┆ ---      │\n",
       "│ str       ┆ ---       ┆ ---       ┆ ---       ┆   ┆ ---       ┆ ---       ┆ str       ┆ str      │\n",
       "│           ┆ str       ┆ datetime[ ┆ str       ┆   ┆ i64       ┆ bool      ┆           ┆          │\n",
       "│           ┆           ┆ μs, UTC]  ┆           ┆   ┆           ┆           ┆           ┆          │\n",
       "╞═══════════╪═══════════╪═══════════╪═══════════╪═══╪═══════════╪═══════════╪═══════════╪══════════╡\n",
       "│ 8gR67m5pP ┆ DÉFICIT : ┆ 2024-09-2 ┆ UC9hHeywc ┆ … ┆ 2163      ┆ false     ┆ News &    ┆ déficit| │\n",
       "│ ak        ┆ C'EST     ┆ 9         ┆ PBnLglqnQ ┆   ┆           ┆           ┆ Politics  ┆ dette|ta │\n",
       "│           ┆ PIRE QUE  ┆ 16:04:15  ┆ RaNShQ    ┆   ┆           ┆           ┆           ┆ ux|empru │\n",
       "│           ┆ VOUS …    ┆ UTC       ┆           ┆   ┆           ┆           ┆           ┆ nt|tou…  │\n",
       "└───────────┴───────────┴───────────┴───────────┴───┴───────────┴───────────┴───────────┴──────────┘"
      ]
     },
     "execution_count": 36,
     "metadata": {},
     "output_type": "execute_result"
    }
   ],
   "source": [
    "df[8]"
   ]
  },
  {
   "cell_type": "markdown",
   "id": "da9739cd-869a-448b-9f11-bbf1714b2148",
   "metadata": {},
   "source": [
    "Vous pouvez aussi filtrer les observations :"
   ]
  },
  {
   "cell_type": "code",
   "execution_count": 37,
   "id": "dd65e273-2145-42ee-991e-1c8041226837",
   "metadata": {},
   "outputs": [
    {
     "data": {
      "text/html": [
       "<div><style>\n",
       ".dataframe > thead > tr,\n",
       ".dataframe > tbody > tr {\n",
       "  text-align: right;\n",
       "  white-space: pre-wrap;\n",
       "}\n",
       "</style>\n",
       "<small>shape: (79, 10)</small><table border=\"1\" class=\"dataframe\"><thead><tr><th>video_id</th><th>video_title</th><th>published_at</th><th>channel_id</th><th>view_count</th><th>like_count</th><th>comment_count</th><th>has_captions</th><th>category</th><th>tags</th></tr><tr><td>str</td><td>str</td><td>datetime[μs, UTC]</td><td>str</td><td>i64</td><td>i64</td><td>i64</td><td>bool</td><td>str</td><td>str</td></tr></thead><tbody><tr><td>&quot;YffVoIf7uBU&quot;</td><td>&quot;COMMENT MACRON A RÉUSSI SON CO…</td><td>2024-07-16 16:07:10 UTC</td><td>&quot;UC9hHeywcPBnLglqnQRaNShQ&quot;</td><td>135723</td><td>11823</td><td>1678</td><td>true</td><td>&quot;News &amp; Politics&quot;</td><td>&quot;macron|gouvernement|législativ…</td></tr><tr><td>&quot;1Lkpj6wOr6I&quot;</td><td>&quot;NON, LE MARCHÉ UNIQUE EUROPÉEN…</td><td>2024-06-05 16:05:50 UTC</td><td>&quot;UC9hHeywcPBnLglqnQRaNShQ&quot;</td><td>72275</td><td>8578</td><td>721</td><td>true</td><td>&quot;News &amp; Politics&quot;</td><td>&quot;gabriel attal|jordan bardella|…</td></tr><tr><td>&quot;zcv-SjUf58I&quot;</td><td>&quot;AGRICULTURE 🇫🇷 : L’IMPASSE MON…</td><td>2024-02-18 17:05:08 UTC</td><td>&quot;UC9hHeywcPBnLglqnQRaNShQ&quot;</td><td>79845</td><td>7329</td><td>608</td><td>true</td><td>&quot;News &amp; Politics&quot;</td><td>&quot;agriculteurs|agriculteur|bio|s…</td></tr><tr><td>&quot;NbDjt8w7nzE&quot;</td><td>&quot;POUR EN FINIR AVEC LES ÉOLIENN…</td><td>2023-11-30 16:30:05 UTC</td><td>&quot;UC9hHeywcPBnLglqnQRaNShQ&quot;</td><td>115914</td><td>7007</td><td>1122</td><td>true</td><td>&quot;News &amp; Politics&quot;</td><td>&quot;macron|tatiana ventose|greta t…</td></tr><tr><td>&quot;I9kNkrkuFBg&quot;</td><td>&quot;RELANCER UNE PRODUCTION NATION…</td><td>2023-08-31 15:30:09 UTC</td><td>&quot;UC9hHeywcPBnLglqnQRaNShQ&quot;</td><td>17172</td><td>1035</td><td>61</td><td>true</td><td>&quot;News &amp; Politics&quot;</td><td>&quot;Fil d&#x27;actu|tommy lasserre|jacq…</td></tr><tr><td>&hellip;</td><td>&hellip;</td><td>&hellip;</td><td>&hellip;</td><td>&hellip;</td><td>&hellip;</td><td>&hellip;</td><td>&hellip;</td><td>&hellip;</td><td>&hellip;</td></tr><tr><td>&quot;LE2OH6Oa8ho&quot;</td><td>&quot;[Fil d&#x27;Actu #29] Violences pol…</td><td>2016-05-05 18:38:03 UTC</td><td>&quot;UC9hHeywcPBnLglqnQRaNShQ&quot;</td><td>20507</td><td>870</td><td>85</td><td>true</td><td>&quot;Entertainment&quot;</td><td>&quot;violences policières|taranis|h…</td></tr><tr><td>&quot;Vgk_VZ00T0o&quot;</td><td>&quot;[Fil d&#x27;Actu #28] Mc Donald&#x27;s, …</td><td>2016-04-28 17:12:17 UTC</td><td>&quot;UC9hHeywcPBnLglqnQRaNShQ&quot;</td><td>17654</td><td>677</td><td>55</td><td>true</td><td>&quot;Entertainment&quot;</td><td>&quot;Mc Do|Mc Donald&#x27;s|McDonald|fas…</td></tr><tr><td>&quot;zYks0I4d_oE&quot;</td><td>&quot;[Fil d&#x27;Actu #27] Secret des af…</td><td>2016-04-21 18:42:20 UTC</td><td>&quot;UC9hHeywcPBnLglqnQRaNShQ&quot;</td><td>13836</td><td>756</td><td>38</td><td>true</td><td>&quot;Entertainment&quot;</td><td>&quot;Luxleaks|Panama Papers|Antoine…</td></tr><tr><td>&quot;AOVf3s-c0fM&quot;</td><td>&quot;[Fil d&#x27;Actu spécial] Nuit Debo…</td><td>2016-04-13 11:48:10 UTC</td><td>&quot;UC9hHeywcPBnLglqnQRaNShQ&quot;</td><td>22703</td><td>897</td><td>93</td><td>true</td><td>&quot;News &amp; Politics&quot;</td><td>&quot;Nuit Debout&quot;</td></tr><tr><td>&quot;GXJXq7B3I60&quot;</td><td>&quot;[Fil d&#x27;Actu #24] Elections US …</td><td>2016-03-31 18:34:20 UTC</td><td>&quot;UC9hHeywcPBnLglqnQRaNShQ&quot;</td><td>14499</td><td>792</td><td>52</td><td>true</td><td>&quot;News &amp; Politics&quot;</td><td>&quot;Bernie Sanders|Donald Trump|Hi…</td></tr></tbody></table></div>"
      ],
      "text/plain": [
       "shape: (79, 10)\n",
       "┌───────────┬───────────┬───────────┬───────────┬───┬───────────┬───────────┬───────────┬──────────┐\n",
       "│ video_id  ┆ video_tit ┆ published ┆ channel_i ┆ … ┆ comment_c ┆ has_capti ┆ category  ┆ tags     │\n",
       "│ ---       ┆ le        ┆ _at       ┆ d         ┆   ┆ ount      ┆ ons       ┆ ---       ┆ ---      │\n",
       "│ str       ┆ ---       ┆ ---       ┆ ---       ┆   ┆ ---       ┆ ---       ┆ str       ┆ str      │\n",
       "│           ┆ str       ┆ datetime[ ┆ str       ┆   ┆ i64       ┆ bool      ┆           ┆          │\n",
       "│           ┆           ┆ μs, UTC]  ┆           ┆   ┆           ┆           ┆           ┆          │\n",
       "╞═══════════╪═══════════╪═══════════╪═══════════╪═══╪═══════════╪═══════════╪═══════════╪══════════╡\n",
       "│ YffVoIf7u ┆ COMMENT   ┆ 2024-07-1 ┆ UC9hHeywc ┆ … ┆ 1678      ┆ true      ┆ News &    ┆ macron|g │\n",
       "│ BU        ┆ MACRON A  ┆ 6         ┆ PBnLglqnQ ┆   ┆           ┆           ┆ Politics  ┆ ouvernem │\n",
       "│           ┆ RÉUSSI    ┆ 16:07:10  ┆ RaNShQ    ┆   ┆           ┆           ┆           ┆ ent|légi │\n",
       "│           ┆ SON CO…   ┆ UTC       ┆           ┆   ┆           ┆           ┆           ┆ slativ…  │\n",
       "│ 1Lkpj6wOr ┆ NON, LE   ┆ 2024-06-0 ┆ UC9hHeywc ┆ … ┆ 721       ┆ true      ┆ News &    ┆ gabriel  │\n",
       "│ 6I        ┆ MARCHÉ    ┆ 5         ┆ PBnLglqnQ ┆   ┆           ┆           ┆ Politics  ┆ attal|jo │\n",
       "│           ┆ UNIQUE    ┆ 16:05:50  ┆ RaNShQ    ┆   ┆           ┆           ┆           ┆ rdan bar │\n",
       "│           ┆ EUROPÉEN… ┆ UTC       ┆           ┆   ┆           ┆           ┆           ┆ della|…  │\n",
       "│ zcv-SjUf5 ┆ AGRICULTU ┆ 2024-02-1 ┆ UC9hHeywc ┆ … ┆ 608       ┆ true      ┆ News &    ┆ agricult │\n",
       "│ 8I        ┆ RE 🇫🇷 :   ┆ 8         ┆ PBnLglqnQ ┆   ┆           ┆           ┆ Politics  ┆ eurs|agr │\n",
       "│           ┆ L’IMPASSE ┆ 17:05:08  ┆ RaNShQ    ┆   ┆           ┆           ┆           ┆ iculteur │\n",
       "│           ┆ MON…      ┆ UTC       ┆           ┆   ┆           ┆           ┆           ┆ |bio|s…  │\n",
       "│ NbDjt8w7n ┆ POUR EN   ┆ 2023-11-3 ┆ UC9hHeywc ┆ … ┆ 1122      ┆ true      ┆ News &    ┆ macron|t │\n",
       "│ zE        ┆ FINIR     ┆ 0         ┆ PBnLglqnQ ┆   ┆           ┆           ┆ Politics  ┆ atiana   │\n",
       "│           ┆ AVEC LES  ┆ 16:30:05  ┆ RaNShQ    ┆   ┆           ┆           ┆           ┆ ventose| │\n",
       "│           ┆ ÉOLIENN…  ┆ UTC       ┆           ┆   ┆           ┆           ┆           ┆ greta t… │\n",
       "│ I9kNkrkuF ┆ RELANCER  ┆ 2023-08-3 ┆ UC9hHeywc ┆ … ┆ 61        ┆ true      ┆ News &    ┆ Fil d'ac │\n",
       "│ Bg        ┆ UNE PRODU ┆ 1         ┆ PBnLglqnQ ┆   ┆           ┆           ┆ Politics  ┆ tu|tommy │\n",
       "│           ┆ CTION     ┆ 15:30:09  ┆ RaNShQ    ┆   ┆           ┆           ┆           ┆ lasserre │\n",
       "│           ┆ NATION…   ┆ UTC       ┆           ┆   ┆           ┆           ┆           ┆ |jacq…   │\n",
       "│ …         ┆ …         ┆ …         ┆ …         ┆ … ┆ …         ┆ …         ┆ …         ┆ …        │\n",
       "│ LE2OH6Oa8 ┆ [Fil      ┆ 2016-05-0 ┆ UC9hHeywc ┆ … ┆ 85        ┆ true      ┆ Entertain ┆ violence │\n",
       "│ ho        ┆ d'Actu    ┆ 5         ┆ PBnLglqnQ ┆   ┆           ┆           ┆ ment      ┆ s polici │\n",
       "│           ┆ #29]      ┆ 18:38:03  ┆ RaNShQ    ┆   ┆           ┆           ┆           ┆ ères|tar │\n",
       "│           ┆ Violences ┆ UTC       ┆           ┆   ┆           ┆           ┆           ┆ anis|h…  │\n",
       "│           ┆ pol…      ┆           ┆           ┆   ┆           ┆           ┆           ┆          │\n",
       "│ Vgk_VZ00T ┆ [Fil      ┆ 2016-04-2 ┆ UC9hHeywc ┆ … ┆ 55        ┆ true      ┆ Entertain ┆ Mc Do|Mc │\n",
       "│ 0o        ┆ d'Actu    ┆ 8         ┆ PBnLglqnQ ┆   ┆           ┆           ┆ ment      ┆ Donald's │\n",
       "│           ┆ #28] Mc   ┆ 17:12:17  ┆ RaNShQ    ┆   ┆           ┆           ┆           ┆ |McDonal │\n",
       "│           ┆ Donald's, ┆ UTC       ┆           ┆   ┆           ┆           ┆           ┆ d|fas…   │\n",
       "│           ┆ …         ┆           ┆           ┆   ┆           ┆           ┆           ┆          │\n",
       "│ zYks0I4d_ ┆ [Fil      ┆ 2016-04-2 ┆ UC9hHeywc ┆ … ┆ 38        ┆ true      ┆ Entertain ┆ Luxleaks │\n",
       "│ oE        ┆ d'Actu    ┆ 1         ┆ PBnLglqnQ ┆   ┆           ┆           ┆ ment      ┆ |Panama  │\n",
       "│           ┆ #27]      ┆ 18:42:20  ┆ RaNShQ    ┆   ┆           ┆           ┆           ┆ Papers|A │\n",
       "│           ┆ Secret    ┆ UTC       ┆           ┆   ┆           ┆           ┆           ┆ ntoine…  │\n",
       "│           ┆ des af…   ┆           ┆           ┆   ┆           ┆           ┆           ┆          │\n",
       "│ AOVf3s-c0 ┆ [Fil      ┆ 2016-04-1 ┆ UC9hHeywc ┆ … ┆ 93        ┆ true      ┆ News &    ┆ Nuit     │\n",
       "│ fM        ┆ d'Actu    ┆ 3         ┆ PBnLglqnQ ┆   ┆           ┆           ┆ Politics  ┆ Debout   │\n",
       "│           ┆ spécial]  ┆ 11:48:10  ┆ RaNShQ    ┆   ┆           ┆           ┆           ┆          │\n",
       "│           ┆ Nuit      ┆ UTC       ┆           ┆   ┆           ┆           ┆           ┆          │\n",
       "│           ┆ Debo…     ┆           ┆           ┆   ┆           ┆           ┆           ┆          │\n",
       "│ GXJXq7B3I ┆ [Fil      ┆ 2016-03-3 ┆ UC9hHeywc ┆ … ┆ 52        ┆ true      ┆ News &    ┆ Bernie   │\n",
       "│ 60        ┆ d'Actu    ┆ 1         ┆ PBnLglqnQ ┆   ┆           ┆           ┆ Politics  ┆ Sanders| │\n",
       "│           ┆ #24]      ┆ 18:34:20  ┆ RaNShQ    ┆   ┆           ┆           ┆           ┆ Donald   │\n",
       "│           ┆ Elections ┆ UTC       ┆           ┆   ┆           ┆           ┆           ┆ Trump|Hi │\n",
       "│           ┆ US …      ┆           ┆           ┆   ┆           ┆           ┆           ┆ …        │\n",
       "└───────────┴───────────┴───────────┴───────────┴───┴───────────┴───────────┴───────────┴──────────┘"
      ]
     },
     "execution_count": 37,
     "metadata": {},
     "output_type": "execute_result"
    }
   ],
   "source": [
    "df.filter(pl.col(\"has_captions\") == True)"
   ]
  },
  {
   "cell_type": "code",
   "execution_count": 38,
   "id": "4f595d32-8f92-4105-a3b4-e527184c7fbe",
   "metadata": {},
   "outputs": [],
   "source": [
    "from datetime import datetime, timezone"
   ]
  },
  {
   "cell_type": "code",
   "execution_count": 39,
   "id": "a00fa2b0-5da3-4f34-b14a-96b6c97c91a5",
   "metadata": {},
   "outputs": [
    {
     "data": {
      "text/html": [
       "<div><style>\n",
       ".dataframe > thead > tr,\n",
       ".dataframe > tbody > tr {\n",
       "  text-align: right;\n",
       "  white-space: pre-wrap;\n",
       "}\n",
       "</style>\n",
       "<small>shape: (31, 10)</small><table border=\"1\" class=\"dataframe\"><thead><tr><th>video_id</th><th>video_title</th><th>published_at</th><th>channel_id</th><th>view_count</th><th>like_count</th><th>comment_count</th><th>has_captions</th><th>category</th><th>tags</th></tr><tr><td>str</td><td>str</td><td>datetime[μs, UTC]</td><td>str</td><td>i64</td><td>i64</td><td>i64</td><td>bool</td><td>str</td><td>str</td></tr></thead><tbody><tr><td>&quot;1_UCKSs88fw&quot;</td><td>&quot;ÉTAT DE LA FRANCE : CE MENSONG…</td><td>2025-01-19 16:45:53 UTC</td><td>&quot;UC9hHeywcPBnLglqnQRaNShQ&quot;</td><td>121721</td><td>11072</td><td>749</td><td>false</td><td>&quot;News &amp; Politics&quot;</td><td>&quot;trump|macron|investiture|bayro…</td></tr><tr><td>&quot;Hc9UD6iilNY&quot;</td><td>&quot;FRANCE : LA SITUATION POLITIQU…</td><td>2024-12-22 16:30:04 UTC</td><td>&quot;UC9hHeywcPBnLglqnQRaNShQ&quot;</td><td>68517</td><td>6937</td><td>566</td><td>false</td><td>&quot;News &amp; Politics&quot;</td><td>&quot;macron|bayrou|1er ministre|que…</td></tr><tr><td>&quot;-32lgROAmDQ&quot;</td><td>&quot;QUI VEUT LA PEAU DES AGRICULTE…</td><td>2024-11-25 16:37:23 UTC</td><td>&quot;UC9hHeywcPBnLglqnQRaNShQ&quot;</td><td>57009</td><td>6944</td><td>696</td><td>false</td><td>&quot;News &amp; Politics&quot;</td><td>&quot;agriculteur|en colère|agricult…</td></tr><tr><td>&quot;BI_fweGoRJU&quot;</td><td>&quot;TRUMP RÉÉLU : QUELLES IMPLICAT…</td><td>2024-11-12 16:29:44 UTC</td><td>&quot;UC9hHeywcPBnLglqnQRaNShQ&quot;</td><td>129165</td><td>11879</td><td>1327</td><td>false</td><td>&quot;News &amp; Politics&quot;</td><td>&quot;trump|elon musk|tesla|starligh…</td></tr><tr><td>&quot;D1pQ6c1T8X4&quot;</td><td>&quot;MOLDAVIE, GÉORGIE, BRICS : L&#x27;E…</td><td>2024-10-31 16:37:10 UTC</td><td>&quot;UC9hHeywcPBnLglqnQRaNShQ&quot;</td><td>166996</td><td>14032</td><td>1206</td><td>false</td><td>&quot;News &amp; Politics&quot;</td><td>&quot;macron|barnier|économie|budget…</td></tr><tr><td>&hellip;</td><td>&hellip;</td><td>&hellip;</td><td>&hellip;</td><td>&hellip;</td><td>&hellip;</td><td>&hellip;</td><td>&hellip;</td><td>&hellip;</td><td>&hellip;</td></tr><tr><td>&quot;CEqfd2zDsxs&quot;</td><td>&quot;NON, MACRON NE « RÉINDUSTRIALI…</td><td>2023-07-31 15:30:05 UTC</td><td>&quot;UC9hHeywcPBnLglqnQRaNShQ&quot;</td><td>236412</td><td>15120</td><td>2256</td><td>false</td><td>&quot;News &amp; Politics&quot;</td><td>&quot;macron|réindustrialisation|tat…</td></tr><tr><td>&quot;sJJY2e9qGoE&quot;</td><td>&quot;POUR EN FINIR AVEC LES ÉOLIENN…</td><td>2023-07-10 16:00:44 UTC</td><td>&quot;UC9hHeywcPBnLglqnQRaNShQ&quot;</td><td>179898</td><td>10611</td><td>2078</td><td>false</td><td>&quot;News &amp; Politics&quot;</td><td>&quot;jancovici|greta thunberg|solai…</td></tr><tr><td>&quot;NQvh5_m7_-4&quot;</td><td>&quot;ÉCONOMIE : ILS NOUS MENTENT DE…</td><td>2023-04-14 16:00:22 UTC</td><td>&quot;UC9hHeywcPBnLglqnQRaNShQ&quot;</td><td>328055</td><td>22271</td><td>3176</td><td>false</td><td>&quot;News &amp; Politics&quot;</td><td>&quot;macron|retraite|pib|économie|f…</td></tr><tr><td>&quot;NxXaMEQMwCQ&quot;</td><td>&quot;DÉFI AUX FACT-CHECKEURS&quot;</td><td>2023-04-12 16:00:12 UTC</td><td>&quot;UC9hHeywcPBnLglqnQRaNShQ&quot;</td><td>94824</td><td>11925</td><td>1370</td><td>false</td><td>&quot;News &amp; Politics&quot;</td><td>&quot;fil d&#x27;actu|tatiana ventose|mac…</td></tr><tr><td>&quot;-yeOh7b5M6M&quot;</td><td>&quot;⚡️ ÉLECTRICITÉ : NOS BOULANGER…</td><td>2023-02-07 16:00:00 UTC</td><td>&quot;UC9hHeywcPBnLglqnQRaNShQ&quot;</td><td>140202</td><td>11009</td><td>1295</td><td>false</td><td>&quot;News &amp; Politics&quot;</td><td>&quot;boulanger|factures|électricité…</td></tr></tbody></table></div>"
      ],
      "text/plain": [
       "shape: (31, 10)\n",
       "┌───────────┬───────────┬───────────┬───────────┬───┬───────────┬───────────┬───────────┬──────────┐\n",
       "│ video_id  ┆ video_tit ┆ published ┆ channel_i ┆ … ┆ comment_c ┆ has_capti ┆ category  ┆ tags     │\n",
       "│ ---       ┆ le        ┆ _at       ┆ d         ┆   ┆ ount      ┆ ons       ┆ ---       ┆ ---      │\n",
       "│ str       ┆ ---       ┆ ---       ┆ ---       ┆   ┆ ---       ┆ ---       ┆ str       ┆ str      │\n",
       "│           ┆ str       ┆ datetime[ ┆ str       ┆   ┆ i64       ┆ bool      ┆           ┆          │\n",
       "│           ┆           ┆ μs, UTC]  ┆           ┆   ┆           ┆           ┆           ┆          │\n",
       "╞═══════════╪═══════════╪═══════════╪═══════════╪═══╪═══════════╪═══════════╪═══════════╪══════════╡\n",
       "│ 1_UCKSs88 ┆ ÉTAT DE   ┆ 2025-01-1 ┆ UC9hHeywc ┆ … ┆ 749       ┆ false     ┆ News &    ┆ trump|ma │\n",
       "│ fw        ┆ LA        ┆ 9         ┆ PBnLglqnQ ┆   ┆           ┆           ┆ Politics  ┆ cron|inv │\n",
       "│           ┆ FRANCE :  ┆ 16:45:53  ┆ RaNShQ    ┆   ┆           ┆           ┆           ┆ estiture │\n",
       "│           ┆ CE        ┆ UTC       ┆           ┆   ┆           ┆           ┆           ┆ |bayro…  │\n",
       "│           ┆ MENSONG…  ┆           ┆           ┆   ┆           ┆           ┆           ┆          │\n",
       "│ Hc9UD6iil ┆ FRANCE :  ┆ 2024-12-2 ┆ UC9hHeywc ┆ … ┆ 566       ┆ false     ┆ News &    ┆ macron|b │\n",
       "│ NY        ┆ LA        ┆ 2         ┆ PBnLglqnQ ┆   ┆           ┆           ┆ Politics  ┆ ayrou|1e │\n",
       "│           ┆ SITUATION ┆ 16:30:04  ┆ RaNShQ    ┆   ┆           ┆           ┆           ┆ r minist │\n",
       "│           ┆ POLITIQU… ┆ UTC       ┆           ┆   ┆           ┆           ┆           ┆ re|que…  │\n",
       "│ -32lgROAm ┆ QUI VEUT  ┆ 2024-11-2 ┆ UC9hHeywc ┆ … ┆ 696       ┆ false     ┆ News &    ┆ agricult │\n",
       "│ DQ        ┆ LA PEAU   ┆ 5         ┆ PBnLglqnQ ┆   ┆           ┆           ┆ Politics  ┆ eur|en   │\n",
       "│           ┆ DES AGRIC ┆ 16:37:23  ┆ RaNShQ    ┆   ┆           ┆           ┆           ┆ colère|a │\n",
       "│           ┆ ULTE…     ┆ UTC       ┆           ┆   ┆           ┆           ┆           ┆ gricult… │\n",
       "│ BI_fweGoR ┆ TRUMP     ┆ 2024-11-1 ┆ UC9hHeywc ┆ … ┆ 1327      ┆ false     ┆ News &    ┆ trump|el │\n",
       "│ JU        ┆ RÉÉLU :   ┆ 2         ┆ PBnLglqnQ ┆   ┆           ┆           ┆ Politics  ┆ on musk| │\n",
       "│           ┆ QUELLES   ┆ 16:29:44  ┆ RaNShQ    ┆   ┆           ┆           ┆           ┆ tesla|st │\n",
       "│           ┆ IMPLICAT… ┆ UTC       ┆           ┆   ┆           ┆           ┆           ┆ arligh…  │\n",
       "│ D1pQ6c1T8 ┆ MOLDAVIE, ┆ 2024-10-3 ┆ UC9hHeywc ┆ … ┆ 1206      ┆ false     ┆ News &    ┆ macron|b │\n",
       "│ X4        ┆ GÉORGIE,  ┆ 1         ┆ PBnLglqnQ ┆   ┆           ┆           ┆ Politics  ┆ arnier|é │\n",
       "│           ┆ BRICS :   ┆ 16:37:10  ┆ RaNShQ    ┆   ┆           ┆           ┆           ┆ conomie| │\n",
       "│           ┆ L'E…      ┆ UTC       ┆           ┆   ┆           ┆           ┆           ┆ budget…  │\n",
       "│ …         ┆ …         ┆ …         ┆ …         ┆ … ┆ …         ┆ …         ┆ …         ┆ …        │\n",
       "│ CEqfd2zDs ┆ NON,      ┆ 2023-07-3 ┆ UC9hHeywc ┆ … ┆ 2256      ┆ false     ┆ News &    ┆ macron|r │\n",
       "│ xs        ┆ MACRON NE ┆ 1         ┆ PBnLglqnQ ┆   ┆           ┆           ┆ Politics  ┆ éindustr │\n",
       "│           ┆ « RÉINDUS ┆ 15:30:05  ┆ RaNShQ    ┆   ┆           ┆           ┆           ┆ ialisati │\n",
       "│           ┆ TRIALI…   ┆ UTC       ┆           ┆   ┆           ┆           ┆           ┆ on|tat…  │\n",
       "│ sJJY2e9qG ┆ POUR EN   ┆ 2023-07-1 ┆ UC9hHeywc ┆ … ┆ 2078      ┆ false     ┆ News &    ┆ jancovic │\n",
       "│ oE        ┆ FINIR     ┆ 0         ┆ PBnLglqnQ ┆   ┆           ┆           ┆ Politics  ┆ i|greta  │\n",
       "│           ┆ AVEC LES  ┆ 16:00:44  ┆ RaNShQ    ┆   ┆           ┆           ┆           ┆ thunberg │\n",
       "│           ┆ ÉOLIENN…  ┆ UTC       ┆           ┆   ┆           ┆           ┆           ┆ |solai…  │\n",
       "│ NQvh5_m7_ ┆ ÉCONOMIE  ┆ 2023-04-1 ┆ UC9hHeywc ┆ … ┆ 3176      ┆ false     ┆ News &    ┆ macron|r │\n",
       "│ -4        ┆ : ILS     ┆ 4         ┆ PBnLglqnQ ┆   ┆           ┆           ┆ Politics  ┆ etraite| │\n",
       "│           ┆ NOUS      ┆ 16:00:22  ┆ RaNShQ    ┆   ┆           ┆           ┆           ┆ pib|écon │\n",
       "│           ┆ MENTENT   ┆ UTC       ┆           ┆   ┆           ┆           ┆           ┆ omie|f…  │\n",
       "│           ┆ DE…       ┆           ┆           ┆   ┆           ┆           ┆           ┆          │\n",
       "│ NxXaMEQMw ┆ DÉFI AUX  ┆ 2023-04-1 ┆ UC9hHeywc ┆ … ┆ 1370      ┆ false     ┆ News &    ┆ fil d'ac │\n",
       "│ CQ        ┆ FACT-CHEC ┆ 2         ┆ PBnLglqnQ ┆   ┆           ┆           ┆ Politics  ┆ tu|tatia │\n",
       "│           ┆ KEURS     ┆ 16:00:12  ┆ RaNShQ    ┆   ┆           ┆           ┆           ┆ na vento │\n",
       "│           ┆           ┆ UTC       ┆           ┆   ┆           ┆           ┆           ┆ se|mac…  │\n",
       "│ -yeOh7b5M ┆ ⚡️ ÉLECTR ┆ 2023-02-0 ┆ UC9hHeywc ┆ … ┆ 1295      ┆ false     ┆ News &    ┆ boulange │\n",
       "│ 6M        ┆ ICITÉ :   ┆ 7         ┆ PBnLglqnQ ┆   ┆           ┆           ┆ Politics  ┆ r|factur │\n",
       "│           ┆ NOS BOULA ┆ 16:00:00  ┆ RaNShQ    ┆   ┆           ┆           ┆           ┆ es|élect │\n",
       "│           ┆ NGER…     ┆ UTC       ┆           ┆   ┆           ┆           ┆           ┆ ricité…  │\n",
       "└───────────┴───────────┴───────────┴───────────┴───┴───────────┴───────────┴───────────┴──────────┘"
      ]
     },
     "execution_count": 39,
     "metadata": {},
     "output_type": "execute_result"
    }
   ],
   "source": [
    "df.filter(pl.col(\"published_at\") > datetime(2023, 1, 2, tzinfo=timezone.utc))"
   ]
  },
  {
   "cell_type": "code",
   "execution_count": null,
   "id": "bfdab29d-bece-4a07-9874-b2a2fb2e4938",
   "metadata": {},
   "outputs": [],
   "source": []
  }
 ],
 "metadata": {
  "kernelspec": {
   "display_name": ".env",
   "language": "python",
   "name": "python3"
  },
  "language_info": {
   "codemirror_mode": {
    "name": "ipython",
    "version": 3
   },
   "file_extension": ".py",
   "mimetype": "text/x-python",
   "name": "python",
   "nbconvert_exporter": "python",
   "pygments_lexer": "ipython3",
   "version": "3.11.8"
  }
 },
 "nbformat": 4,
 "nbformat_minor": 5
}

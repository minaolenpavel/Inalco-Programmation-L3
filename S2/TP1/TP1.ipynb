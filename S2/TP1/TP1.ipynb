{
 "cells": [
  {
   "cell_type": "markdown",
   "id": "ffaab68b-c1ec-4d66-a5c0-5f76cf285cd0",
   "metadata": {},
   "source": [
    "# TP1"
   ]
  },
  {
   "cell_type": "markdown",
   "id": "4acaa994-a311-4bb9-a651-bf23215b742c",
   "metadata": {},
   "source": [
    "## 1. Portée des variables"
   ]
  },
  {
   "cell_type": "markdown",
   "id": "dd097431-36c3-455b-b344-c8ca557f33ad",
   "metadata": {},
   "source": [
    "### Exercice 1"
   ]
  },
  {
   "cell_type": "code",
   "execution_count": 1,
   "id": "90eb5803-99f3-48bb-9791-1466cc0dc8db",
   "metadata": {},
   "outputs": [
    {
     "name": "stdout",
     "output_type": "stream",
     "text": [
      "6\n"
     ]
    }
   ],
   "source": [
    "b = 10\n",
    "\n",
    "def f1():\n",
    "    global b\n",
    "    b = 3\n",
    "\n",
    "def f2(p,q):\n",
    "    global b\n",
    "    return p + q + b\n",
    "\n",
    "f1()\n",
    "res = f2(1,2)\n",
    "print(res)"
   ]
  },
  {
   "cell_type": "markdown",
   "id": "bbc23fa2-d3c9-471d-98e4-ce15eea5cf47",
   "metadata": {},
   "source": [
    "Initialisation de la variable globale *b* avec pour valeur le nombre entier *10*. \\\n",
    "Déclaration des fonctions *f1* et *f2*. \\\n",
    "Appel de la fonction *f1* qui modifie la valeur de *b* et la met à *3*. \\\n",
    "Initialisation de la variable *res* qui prend pour valeur la valeur de retour de la fonction *f2* avec pour arguments *1* et *2*. \\\n",
    "La fonction *f2* renvoie la somme des arguments de la fonction ainsi que de la variable globale *b*. \\\n",
    "Donc `1+2+3`.\n",
    "Le programme envoie sur la sortie standard la valeur de la variable *res* qui est *6*."
   ]
  },
  {
   "cell_type": "markdown",
   "id": "bfa8580b-1abf-46f8-8b7c-3cbe1fc97b1e",
   "metadata": {},
   "source": [
    "### Exercice 2"
   ]
  },
  {
   "cell_type": "code",
   "execution_count": 6,
   "id": "1d694f9d-4827-4cc4-937b-a9cba0225a7c",
   "metadata": {},
   "outputs": [
    {
     "name": "stdout",
     "output_type": "stream",
     "text": [
      "6\n"
     ]
    }
   ],
   "source": [
    "def f1():\n",
    "    return 3\n",
    "\n",
    "def f2(p,q, b):\n",
    "    return p + q + b\n",
    "\n",
    "def main():\n",
    "    b = 10\n",
    "    b = f1()\n",
    "    res = f2(1,2,b)\n",
    "    print(res)\n",
    "\n",
    "if __name__ == \"__main__\":\n",
    "    main()"
   ]
  },
  {
   "cell_type": "markdown",
   "id": "4fd35940-9be2-4056-9916-f8eaf418cf9d",
   "metadata": {},
   "source": [
    "## 2. Modularité "
   ]
  },
  {
   "cell_type": "code",
   "execution_count": null,
   "id": "458ca0bd-7128-4fe0-8712-0b4509ed8257",
   "metadata": {},
   "outputs": [],
   "source": []
  }
 ],
 "metadata": {
  "kernelspec": {
   "display_name": "Python 3 (ipykernel)",
   "language": "python",
   "name": "python3"
  },
  "language_info": {
   "codemirror_mode": {
    "name": "ipython",
    "version": 3
   },
   "file_extension": ".py",
   "mimetype": "text/x-python",
   "name": "python",
   "nbconvert_exporter": "python",
   "pygments_lexer": "ipython3",
   "version": "3.11.8"
  }
 },
 "nbformat": 4,
 "nbformat_minor": 5
}

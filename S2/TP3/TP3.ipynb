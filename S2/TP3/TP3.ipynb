{
 "cells": [
  {
   "cell_type": "markdown",
   "id": "a08d8da6-ad5b-4210-8f23-3b69d16e97d4",
   "metadata": {},
   "source": [
    "# TP 3 — Mutabilité, fonctions anonymes, application aux listes"
   ]
  },
  {
   "cell_type": "markdown",
   "id": "375a96a5-9c71-43eb-8184-1546a89e34bc",
   "metadata": {},
   "source": [
    "## 1. Mutabilité"
   ]
  },
  {
   "cell_type": "markdown",
   "id": "65396d79-a843-4fdb-a0a9-3cd9c07160a2",
   "metadata": {},
   "source": [
    "Le type *fonction* en Python est un type mutable. Selon la définition du cours \"Un objet Python est dit mutable **si l'on peut changer sa valeur après sa création**. Autrement, le type est non-mutable\"."
   ]
  },
  {
   "cell_type": "code",
   "execution_count": 2,
   "id": "7ce399c6-ec0b-480c-b805-917e2c15502e",
   "metadata": {},
   "outputs": [
    {
     "name": "stdout",
     "output_type": "stream",
     "text": [
      "1684388898400\n",
      "1684388898400\n"
     ]
    }
   ],
   "source": [
    "def foo():\n",
    "    print(\"bar\")\n",
    "foo.attr = 1\n",
    "print(id(foo))\n",
    "foo.attr = 0\n",
    "print(id(foo))"
   ]
  },
  {
   "cell_type": "markdown",
   "id": "5fbef61d-f331-4c87-9055-2e7bbe8cbf4f",
   "metadata": {},
   "source": [
    "Dans cet exemple, on peut voir que l'id (l'adresse de la fonction dans la mémoire) de la fonction *foo* ne change pas, malgré le fait que son attribut `attr` ait été changé. Ce qui fait de la fonction un type **non mutable**"
   ]
  },
  {
   "cell_type": "markdown",
   "id": "f673a5a0-bdca-48a8-9b76-65f27a15b8d9",
   "metadata": {},
   "source": [
    "## 2. Application aux listes"
   ]
  },
  {
   "cell_type": "markdown",
   "id": "6bab5a09-00e0-4f1d-967b-3368191747f0",
   "metadata": {},
   "source": [
    "### Exercice 1 : Trier une liste de mots par taille"
   ]
  },
  {
   "cell_type": "code",
   "execution_count": 4,
   "id": "b6cb6fed-467e-4761-b1db-151eb40ec133",
   "metadata": {},
   "outputs": [
    {
     "name": "stdout",
     "output_type": "stream",
     "text": [
      "['La', 'pas', \"n'est\", 'fourmi', 'prêteuse.']\n"
     ]
    }
   ],
   "source": [
    "def trier_par_longueur(l:list) -> list:\n",
    "    return sorted(l, key= lambda w: (len(w), w))\n",
    "\n",
    "\n",
    "words = [\"La\", \"fourmi\", \"n'est\", \"pas\", \"prêteuse.\"]\n",
    "print(trier_par_longueur(words))"
   ]
  },
  {
   "cell_type": "markdown",
   "id": "f7b31b4f-107a-4602-88a5-a28d3bf2b0bc",
   "metadata": {},
   "source": [
    "### Exercice 2 : Quelles villes sont les plus peuplées ?"
   ]
  },
  {
   "cell_type": "markdown",
   "id": "b9f7eb1f-c7d0-4181-9726-e1fc198a545b",
   "metadata": {},
   "source": [
    "#### 1"
   ]
  },
  {
   "cell_type": "code",
   "execution_count": 9,
   "id": "c6bc472b-8b82-4391-9d03-a80bcce53b96",
   "metadata": {},
   "outputs": [
    {
     "name": "stdout",
     "output_type": "stream",
     "text": [
      "La ville la plus peuplée du Bas-Rhin est Strasbourg avec 294564 habitants\n",
      "La ville la plus peuplée du Calvados est Caen avec 110520 habitants\n",
      "La ville la plus peuplée de l'Isère est Grenoble avec 158601 habitants\n"
     ]
    }
   ],
   "source": [
    "import csv \n",
    "\n",
    "data = []\n",
    "with open(\"ensemble/donnees_communes.csv\", encoding='utf-8', mode='r') as csv_file:\n",
    "    csv_reader = csv.DictReader(csv_file, delimiter=\";\")\n",
    "    for i in csv_reader:\n",
    "        data.append(i)\n",
    "\n",
    "sorted_data = sorted(data, key= lambda x : int(x[\"PTOT\"])) # Liste des communes classées par population croissante.\n",
    "\n",
    "max_bas_rhin = [c for c in sorted_data if c[\"DEP\"] == \"67\"][-1]\n",
    "print(f\"La ville la plus peuplée du Bas-Rhin est {max_bas_rhin['Commune']} avec {max_bas_rhin['PTOT']} habitants\")\n",
    "\n",
    "max_calvados = [c for c in sorted_data if c[\"DEP\"] == \"14\"][-1]\n",
    "print(f\"La ville la plus peuplée du Calvados est {max_calvados['Commune']} avec {max_calvados['PTOT']} habitants\")\n",
    "\n",
    "max_isere = [c for c in sorted_data if c[\"DEP\"] == \"38\"][-1]\n",
    "print(f\"La ville la plus peuplée de l'Isère est {max_isere['Commune']} avec {max_isere['PTOT']} habitants\")"
   ]
  },
  {
   "cell_type": "markdown",
   "id": "cd69540a-9cfb-4ac0-a722-0bb3a602ed18",
   "metadata": {},
   "source": [
    "#### 2"
   ]
  },
  {
   "cell_type": "code",
   "execution_count": 7,
   "id": "032ad7a2-2549-47ed-81e0-bf7ac7257941",
   "metadata": {},
   "outputs": [
    {
     "name": "stdout",
     "output_type": "stream",
     "text": [
      "Les trois communes les moins peuplées de la Sarthe sont Nauvay, Panon, Dureil\n",
      "Les trois communes les moins peuplées du Vaucluse sont Saint-Léger-du-Ventoux, Lagarde-d'Apt, Sivergues\n",
      "Les trois communes les moins peuplées de la Gironde sont Lartigue, Bossugan, Castelmoron-d'Albret\n"
     ]
    }
   ],
   "source": [
    "import csv \n",
    "\n",
    "data = []\n",
    "with open(\"ensemble/donnees_communes.csv\", encoding='utf-8', mode='r') as csv_file:\n",
    "    csv_reader = csv.DictReader(csv_file, delimiter=\";\")\n",
    "    for i in csv_reader:\n",
    "        data.append(i)\n",
    "\n",
    "sorted_data = sorted(data, key= lambda x : int(x[\"PTOT\"])) # Liste des communes classées par population croissante.\n",
    "\n",
    "min_sarthe = [c for c in sorted_data if c[\"DEP\"] == \"72\"][0:3]\n",
    "print(f\"Les trois communes les moins peuplées de la Sarthe sont {', '.join([c['Commune'] for c in min_sarthe])}\")\n",
    "\n",
    "min_vaucluse = [c for c in sorted_data if c[\"DEP\"] == \"84\"][0:3]\n",
    "print(f\"Les trois communes les moins peuplées du Vaucluse sont {', '.join([c['Commune'] for c in min_vaucluse])}\")\n",
    "\n",
    "min_gironde = [c for c in sorted_data if c[\"DEP\"] == \"33\"][0:3]\n",
    "print(f\"Les trois communes les moins peuplées de la Gironde sont {', '.join([c['Commune'] for c in min_gironde])}\")"
   ]
  },
  {
   "cell_type": "markdown",
   "id": "9f7e86f7-6e02-4858-a1f5-1366aa2604ca",
   "metadata": {},
   "source": [
    "#### 3"
   ]
  },
  {
   "cell_type": "code",
   "execution_count": null,
   "id": "6d6f8d79-e89a-4913-8e19-d32f163bff6e",
   "metadata": {},
   "outputs": [],
   "source": [
    "import csv \n",
    "\n",
    "def extract_communes() -> list:\n",
    "    data = []\n",
    "    with open(\"ensemble/donnees_communes.csv\", encoding='utf-8', mode='r') as csv_file:\n",
    "        csv_reader = csv.DictReader(csv_file, delimiter=\";\")\n",
    "        for i in csv_reader:\n",
    "            data.append(i)\n",
    "    return data\n",
    "\n",
    "def min_communes(sorted_data:list) -> dict:\n",
    "    min_communes = {}\n",
    "    for c in sorted_data:\n",
    "        if c[\"DEP\"] in min_communes.keys():\n",
    "            if int(c[\"PTOT\"]) < int(min_communes[c[\"DEP\"]][0]):\n",
    "                min_communes[c[\"DEP\"]] = (c[\"PTOT\"], c[\"Commune\"])\n",
    "            else:\n",
    "                pass\n",
    "        else:\n",
    "            min_communes[c[\"DEP\"]] = (c[\"PTOT\"], c[\"Commune\"])\n",
    "    return min_communes\n",
    "\n",
    "def max_communes(sorted_data:list) -> dict:\n",
    "    max_communes = {}\n",
    "    for c in sorted_data:\n",
    "        if c[\"DEP\"] in max_communes.keys():\n",
    "            if int(c[\"PTOT\"]) > int(max_communes[c[\"DEP\"]][0]):\n",
    "                max_communes[c[\"DEP\"]] = (c[\"PTOT\"], c[\"Commune\"])\n",
    "            else:\n",
    "                pass\n",
    "        else:\n",
    "            max_communes[c[\"DEP\"]] = (c[\"PTOT\"], c[\"Commune\"])\n",
    "    return max_communes\n",
    "\n",
    "def extract_departements() -> list:\n",
    "    departements = []\n",
    "    with open(\"ensemble/donnees_departements.csv\", encoding='utf-8', mode='r') as csv_file:\n",
    "        csv_reader = csv.DictReader(csv_file, delimiter=\";\")\n",
    "        for i in csv_reader:\n",
    "            departements.append(i)\n",
    "    return departements\n",
    "\n",
    "def final_dict(departements:list, max_communes:list, min_communes:list) -> list:\n",
    "    final = []\n",
    "    for i in departements:\n",
    "        new_dico = {}\n",
    "        new_dico[\"Num_departement\"] = i[\"DEP\"]\n",
    "        new_dico[\"Nom_departement\"] = i[\"Département\"]\n",
    "        new_dico[\"Ville_plus_habitants\"] = max_communes[i[\"DEP\"]][1]\n",
    "        new_dico[\"Ville_moins_habitants\"] = min_communes[i[\"DEP\"]][1]\n",
    "        new_dico[\"Total_habitants\"] = i[\"PTOT\"]\n",
    "        final.append(new_dico)\n",
    "    return final\n",
    "\n",
    "def write_final(final:list) -> None:\n",
    "    with open(\"final.csv\", encoding='utf-8', mode=\"w\", newline='') as csv_file:\n",
    "        fieldnames = [x for x in final[0].keys()]\n",
    "        csv_writer = csv.DictWriter(csv_file, fieldnames, delimiter=\",\")\n",
    "        csv_writer.writeheader()\n",
    "        for i in final:\n",
    "            csv_writer.writerow(i)\n",
    "\n",
    "if __name__ == \"__main__\":\n",
    "    data = extract_communes()\n",
    "    sorted_data = sorted(data, key= lambda x : int(x[\"PTOT\"])) # Liste des communes classées par population croissante.\n",
    "    communes_moins = min_communes(sorted_data)\n",
    "    communes_plus = max_communes(sorted_data)\n",
    "    departements = extract_departements()\n",
    "    dico = final_dict(departements, communes_plus, communes_moins)\n",
    "    write_final(dico)"
   ]
  },
  {
   "cell_type": "markdown",
   "id": "eb3f83b4-4117-4b9c-b027-a6b940f7104f",
   "metadata": {},
   "source": [
    "### Exercice 3 : Trier des phrases par complexité linguistique"
   ]
  },
  {
   "cell_type": "markdown",
   "id": "40d793d5-b3d4-4ef9-b7df-27293874fe50",
   "metadata": {},
   "source": [
    "#### 1,2,3"
   ]
  },
  {
   "cell_type": "code",
   "execution_count": 13,
   "id": "7760afc6-6848-40f1-8dc8-4a5a5bf5944e",
   "metadata": {},
   "outputs": [
    {
     "name": "stdout",
     "output_type": "stream",
     "text": [
      "(4.714285714285714, 7)\n",
      "(7.5, 8)\n",
      "(5.0, 6)\n",
      "(7.4, 5)\n",
      "['Les modèles de langue traitent le texte.', 'GPT est un réseau neuronal puissant.', \"L'apprentissage automatique est fascinant.\", \"L'intelligence artificielle transforme notre manière de communiquer.\"]\n",
      "['Kino et Viktor Tsoï', \"Le groupe s'est séparé après la mort de Viktor Tsoï le 15 août 1990 dans un accident de voiture (il se serait endormi au volant), marquant l'un des derniers destins tragiques de la musique russe du XXe siècle. Sa popularité est encore très grande dans les pays de langue russe et sa personne fait même l'objet d'une sorte d'idolâtrie1 avec notamment la création du mur de Tsoï2 dans le vieil Arbat au cœur historique de Moscou où se recueillent encore aujourd'hui ses fans venus de toutes les anciennes Républiques Soviétiques 3.\", 'Kino est un groupe de rock soviétique des années 1980 formé autour du chanteur et auteur Viktor Tsoï.', \"Formé en 1981 à Léningrad (aujourd'hui Saint-Pétersbourg), Kino est devenu, grâce au charisme de son chanteur, le groupe phare de la fin de l'Union soviétique.\", 'Le groupe Kino et son chanteur sont les personnages principaux du film russe de Kirill Serebrennikov sorti en 2018, Leto.', \"En 1986, avec Aquarium, Alissa et Strannye Igri, Kino enregistre aux États-Unis l'album historique Red Wave, signant l'entrée du rock soviétique sur la scène internationale.\", \"Les chansons de Viktor Tsoï reflètent les préoccupations de la jeunesse soviétique de l'époque : chansons d'amour, révolte contre le monde des adultes, préoccupations écologiques, petites scènes de la vie quotidienne. Les textes en sont d'une grande simplicité qui a su émouvoir nombre d'auditeurs. Les derniers albums du groupe adoptent un ton plus sombre et l'influence des groupes new wave britanniques se fait sentir sur quelques chansons. Tsoï a également tourné dans quelques films.\"]\n"
     ]
    }
   ],
   "source": [
    "import re\n",
    "import string\n",
    "\n",
    "LETTERS_FR = string.ascii_letters + \"àâçéèêëîïôùûÿœæÀÂÇÉÈÊËÎÏÔÙÛŸŒÆ\"\n",
    "\n",
    "def complexite_phrase(phrase:str) -> tuple:\n",
    "    exp_punct = r\"[^'\\w\\sàâçéèêëîïôùûÿœæÀÂÇÉÈÊËÎÏÔÙÛŸŒÆ]\"\n",
    "    phrase = re.sub(exp_punct, '', phrase)\n",
    "    exp_split = r\"'| \"\n",
    "    split_phrase = re.split(exp_split, phrase)\n",
    "    total_words = len(split_phrase)\n",
    "    \n",
    "    total_letters = 0\n",
    "    for i in phrase:\n",
    "        if i in LETTERS_FR:\n",
    "            total_letters+=1\n",
    "    avg_letters = total_letters/total_words\n",
    "    return (avg_letters, total_words)\n",
    "\n",
    "def trier_phrases(phrases:list) -> list:\n",
    "    sorted_phrases = sorted(phrases, key=lambda x : complexite_phrase(x))\n",
    "    return sorted_phrases\n",
    "\n",
    "def extract_txt(path:str) -> string:\n",
    "    text = []\n",
    "    with open(path, encoding='utf-8', mode=\"r\") as file:\n",
    "        for i in file:\n",
    "            text.append(i.strip())\n",
    "    text = [x for x in text if x != '']\n",
    "    return text\n",
    "\n",
    "if __name__ == \"__main__\":\n",
    "    phrases = [\n",
    "    \"Les modèles de langue traitent le texte.\", \n",
    "    \"L'intelligence artificielle transforme notre manière de communiquer.\",\n",
    "    \"GPT est un réseau neuronal puissant.\",\n",
    "    \"L'apprentissage automatique est fascinant.\"]\n",
    "    for i in phrases:\n",
    "        print(complexite_phrase(i))\n",
    "    print(trier_phrases(phrases))\n",
    "\n",
    "    phrases = extract_txt(\"corpus_wiki_kino.txt\")\n",
    "    print(trier_phrases(phrases))"
   ]
  },
  {
   "cell_type": "code",
   "execution_count": null,
   "id": "c242cf9c-2310-487f-9021-b48453abdad2",
   "metadata": {},
   "outputs": [],
   "source": []
  }
 ],
 "metadata": {
  "kernelspec": {
   "display_name": "Python 3 (ipykernel)",
   "language": "python",
   "name": "python3"
  },
  "language_info": {
   "codemirror_mode": {
    "name": "ipython",
    "version": 3
   },
   "file_extension": ".py",
   "mimetype": "text/x-python",
   "name": "python",
   "nbconvert_exporter": "python",
   "pygments_lexer": "ipython3",
   "version": "3.11.8"
  }
 },
 "nbformat": 4,
 "nbformat_minor": 5
}

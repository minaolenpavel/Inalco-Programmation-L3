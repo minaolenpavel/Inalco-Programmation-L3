{
 "cells": [
  {
   "cell_type": "markdown",
   "id": "593d9da5-b5a9-4da9-acc6-6681c5cc80e2",
   "metadata": {},
   "source": [
    "# TP4 : Polars"
   ]
  },
  {
   "cell_type": "markdown",
   "id": "db174964-72f5-483c-9b94-8b6f4c8cc2ef",
   "metadata": {},
   "source": [
    "A partir du fichier *comment_100.csv*"
   ]
  },
  {
   "cell_type": "code",
   "execution_count": 26,
   "id": "1fda5591-bfa1-4a89-b91a-e5658cc0c2df",
   "metadata": {},
   "outputs": [],
   "source": [
    "import polars as pl"
   ]
  },
  {
   "cell_type": "markdown",
   "id": "43f75b05-a79e-4e19-84b0-0b68cad4b5f8",
   "metadata": {},
   "source": [
    "## 1. Combien y a-t-il de colonnes (séries) ?\n"
   ]
  },
  {
   "cell_type": "code",
   "execution_count": 27,
   "id": "85a6d4bc-3518-4b36-ad1f-46570a5e66b4",
   "metadata": {},
   "outputs": [
    {
     "name": "stdout",
     "output_type": "stream",
     "text": [
      "7\n"
     ]
    }
   ],
   "source": [
    "df = pl.read_csv(\"comments_100.csv\", separator=\",\")\n",
    "print(df.width)"
   ]
  },
  {
   "cell_type": "markdown",
   "id": "d4d4bf1d-fd1a-4a57-98e5-2dde34ae8779",
   "metadata": {},
   "source": [
    "## 2. Combien y a-t-il de lignes (observations) ?"
   ]
  },
  {
   "cell_type": "code",
   "execution_count": 28,
   "id": "8d2d6c98-0f82-44cd-9086-3ef645357942",
   "metadata": {},
   "outputs": [
    {
     "name": "stdout",
     "output_type": "stream",
     "text": [
      "42\n"
     ]
    }
   ],
   "source": [
    "print(df.height)"
   ]
  },
  {
   "cell_type": "markdown",
   "id": "27ab9efc-ef43-46a6-9ad8-ac26c797bdda",
   "metadata": {},
   "source": [
    "## 3. Quelle est la moyenne de nombre de likes ?"
   ]
  },
  {
   "cell_type": "code",
   "execution_count": 29,
   "id": "98c9a41a-3ae8-4464-8058-4071f002dd1e",
   "metadata": {},
   "outputs": [
    {
     "name": "stdout",
     "output_type": "stream",
     "text": [
      "4.404761904761905\n"
     ]
    }
   ],
   "source": [
    "print(df[\"like_count\"].mean())"
   ]
  },
  {
   "cell_type": "markdown",
   "id": "1108f89c-14c0-4512-8e73-3c71d00900a6",
   "metadata": {},
   "source": [
    "## 4. Quel est l'écart type du nombre de likes ?\n"
   ]
  },
  {
   "cell_type": "code",
   "execution_count": 30,
   "id": "965ce4f9-6d42-4917-aae0-9c52bcf1e8bb",
   "metadata": {},
   "outputs": [
    {
     "name": "stdout",
     "output_type": "stream",
     "text": [
      "24.49794369051981\n"
     ]
    }
   ],
   "source": [
    "print(df[\"like_count\"].std())"
   ]
  },
  {
   "cell_type": "markdown",
   "id": "179368e9-dc78-4d89-a951-43bbb532322d",
   "metadata": {},
   "source": [
    "## 5. Afficher les commentaires publiés après le 26/01/2025"
   ]
  },
  {
   "cell_type": "code",
   "execution_count": 31,
   "id": "f7cf3aa0-ebbd-4053-9d2a-c3cd890a1b4a",
   "metadata": {},
   "outputs": [
    {
     "name": "stdout",
     "output_type": "stream",
     "text": [
      "shape: (28, 7)\n",
      "┌─────────────┬────────────────────┬────────────────────┬────────────────────┬────────────┬──────────────┬─────────────┐\n",
      "│ video_id    ┆ comment_id         ┆ channel_id         ┆ text               ┆ like_count ┆ published_at ┆ reply_count │\n",
      "│ ---         ┆ ---                ┆ ---                ┆ ---                ┆ ---        ┆ ---          ┆ ---         │\n",
      "│ str         ┆ str                ┆ str                ┆ str                ┆ i64        ┆ datetime[μs, ┆ i64         │\n",
      "│             ┆                    ┆                    ┆                    ┆            ┆ UTC]         ┆             │\n",
      "╞═════════════╪════════════════════╪════════════════════╪════════════════════╪════════════╪══════════════╪═════════════╡\n",
      "│ 1_UCKSs88fw ┆ UgybOcLb7BR5PCSVG9 ┆ UCW8cAAFV50hfiktZp ┆ C'est quoi le nom  ┆ 0          ┆ 2025-02-03   ┆ 0           │\n",
      "│             ┆ 94AaABAg           ┆ 2BZZvA             ┆ de la musiqu…      ┆            ┆ 14:31:23 UTC ┆             │\n",
      "│ 1_UCKSs88fw ┆ Ugw1kBEnQ3J1mNRCVo ┆ UCI--K5E29-eK-2s_Q ┆ Ok mais maintenant ┆ 0          ┆ 2025-02-03   ┆ 0           │\n",
      "│             ┆ h4AaABAg           ┆ bpIgzA             ┆ qu’on a tou…       ┆            ┆ 14:08:32 UTC ┆             │\n",
      "│ 1_UCKSs88fw ┆ UgykgAiDn2VBvDjHDR ┆ UCOkVLaKsD4zgYcHgw ┆ Ces gens sont      ┆ 0          ┆ 2025-02-02   ┆ 0           │\n",
      "│             ┆ 54AaABAg           ┆ Z7Pkzw             ┆ complètement fou…  ┆            ┆ 20:02:38 UTC ┆             │\n",
      "│ 1_UCKSs88fw ┆ Ugx1gH5fU1XilxY4gL ┆ UCaVyeJ4gCb5ZyiMff ┆ Mi physiocrate, mi ┆ 0          ┆ 2025-02-02   ┆ 0           │\n",
      "│             ┆ t4AaABAg           ┆ kfpk1g             ┆ communiste …       ┆            ┆ 13:04:20 UTC ┆             │\n",
      "│ 1_UCKSs88fw ┆ Ugw7TKRZE9gELJkOU8 ┆ UCS4m8zZdTv6QC41BV ┆ Le mensonge sur    ┆ 0          ┆ 2025-02-01   ┆ 0           │\n",
      "│             ┆ p4AaABAg           ┆ LZ5z4g             ┆ chibrite aussi…    ┆            ┆ 21:47:41 UTC ┆             │\n",
      "│ …           ┆ …                  ┆ …                  ┆ …                  ┆ …          ┆ …            ┆ …           │\n",
      "│ 1_UCKSs88fw ┆ Ugz-85Hm5-66wG4cUw ┆ UCalMWE2FW9PgnY_l0 ┆ Il a un regard de  ┆ 0          ┆ 2025-01-26   ┆ 0           │\n",
      "│             ┆ N4AaABAg           ┆ SPJcBg             ┆ malade et pa…      ┆            ┆ 13:44:46 UTC ┆             │\n",
      "│ 1_UCKSs88fw ┆ UgwiT72f4o6N0xppWn ┆ UCmzhZgqXHc7EtEaPy ┆ Analyse brillante  ┆ 0          ┆ 2025-01-26   ┆ 0           │\n",
      "│             ┆ B4AaABAg           ┆ DynCfA             ┆                    ┆            ┆ 13:21:13 UTC ┆             │\n",
      "│ 1_UCKSs88fw ┆ UgxMqTd2IJmsWNQ4Vk ┆ UCGXine_YG6Qoon4Vd ┆ Ce média est       ┆ 9          ┆ 2025-01-26   ┆ 0           │\n",
      "│             ┆ 94AaABAg           ┆ fclVbA             ┆ tellement nécessa… ┆            ┆ 11:46:26 UTC ┆             │\n",
      "│ 1_UCKSs88fw ┆ UgxtoURNRTZOPK7r_9 ┆ UCWttzfyBwB_Q1o7zX ┆ Vous savez comment ┆ 0          ┆ 2025-01-26   ┆ 0           │\n",
      "│             ┆ x4AaABAg           ┆ JvcCXA             ┆ on peut dev…       ┆            ┆ 11:21:51 UTC ┆             │\n",
      "│ 1_UCKSs88fw ┆ UgwuFjEhJ2eKUCG4H1 ┆ UC5xnkz73MGlpdtKej ┆ Merci pour votre   ┆ 6          ┆ 2025-01-26   ┆ 0           │\n",
      "│             ┆ 54AaABAg           ┆ UadcYg             ┆ travail d'ana…     ┆            ┆ 10:50:41 UTC ┆             │\n",
      "└─────────────┴────────────────────┴────────────────────┴────────────────────┴────────────┴──────────────┴─────────────┘\n"
     ]
    }
   ],
   "source": [
    "df = df.with_columns(pl.col(\"published_at\").str.to_datetime())\n",
    "print(df.filter(pl.col(\"published_at\") > pl.datetime(2025,1,26,0,0,0,0).dt.replace_time_zone(\"UTC\")))   # Le format dt du df prend en compte le fuseau horaire, donc il faut aussi l'ajouter dans la date de comparaison pour que les deux objets soient du même type. \n"
   ]
  },
  {
   "cell_type": "code",
   "execution_count": 32,
   "id": "8ae03963-81df-4af6-97f7-e543e0c491fa",
   "metadata": {},
   "outputs": [
    {
     "name": "stdout",
     "output_type": "stream",
     "text": [
      "shape: (20, 7)\n",
      "┌─────────────┬────────────────────┬────────────────────┬────────────────────┬────────────┬──────────────┬─────────────┐\n",
      "│ video_id    ┆ comment_id         ┆ channel_id         ┆ text               ┆ like_count ┆ published_at ┆ reply_count │\n",
      "│ ---         ┆ ---                ┆ ---                ┆ ---                ┆ ---        ┆ ---          ┆ ---         │\n",
      "│ str         ┆ str                ┆ str                ┆ str                ┆ i64        ┆ datetime[μs, ┆ i64         │\n",
      "│             ┆                    ┆                    ┆                    ┆            ┆ UTC]         ┆             │\n",
      "╞═════════════╪════════════════════╪════════════════════╪════════════════════╪════════════╪══════════════╪═════════════╡\n",
      "│ 1_UCKSs88fw ┆ UgybOcLb7BR5PCSVG9 ┆ UCW8cAAFV50hfiktZp ┆ C'est quoi le nom  ┆ 0          ┆ 2025-02-03   ┆ 0           │\n",
      "│             ┆ 94AaABAg           ┆ 2BZZvA             ┆ de la musiqu…      ┆            ┆ 14:31:23 UTC ┆             │\n",
      "│ 1_UCKSs88fw ┆ Ugw1kBEnQ3J1mNRCVo ┆ UCI--K5E29-eK-2s_Q ┆ Ok mais maintenant ┆ 0          ┆ 2025-02-03   ┆ 0           │\n",
      "│             ┆ h4AaABAg           ┆ bpIgzA             ┆ qu’on a tou…       ┆            ┆ 14:08:32 UTC ┆             │\n",
      "│ 1_UCKSs88fw ┆ UgykgAiDn2VBvDjHDR ┆ UCOkVLaKsD4zgYcHgw ┆ Ces gens sont      ┆ 0          ┆ 2025-02-02   ┆ 0           │\n",
      "│             ┆ 54AaABAg           ┆ Z7Pkzw             ┆ complètement fou…  ┆            ┆ 20:02:38 UTC ┆             │\n",
      "│ 1_UCKSs88fw ┆ Ugx1gH5fU1XilxY4gL ┆ UCaVyeJ4gCb5ZyiMff ┆ Mi physiocrate, mi ┆ 0          ┆ 2025-02-02   ┆ 0           │\n",
      "│             ┆ t4AaABAg           ┆ kfpk1g             ┆ communiste …       ┆            ┆ 13:04:20 UTC ┆             │\n",
      "│ 1_UCKSs88fw ┆ Ugw7TKRZE9gELJkOU8 ┆ UCS4m8zZdTv6QC41BV ┆ Le mensonge sur    ┆ 0          ┆ 2025-02-01   ┆ 0           │\n",
      "│             ┆ p4AaABAg           ┆ LZ5z4g             ┆ chibrite aussi…    ┆            ┆ 21:47:41 UTC ┆             │\n",
      "│ …           ┆ …                  ┆ …                  ┆ …                  ┆ …          ┆ …            ┆ …           │\n",
      "│ 1_UCKSs88fw ┆ UgzIny3NsKFXRnUKFd ┆ UCnO6uEZY-w7idOnNX ┆ La politique est   ┆ 1          ┆ 2025-01-29   ┆ 0           │\n",
      "│             ┆ Z4AaABAg           ┆ Kncsbw             ┆ l'art de trom…     ┆            ┆ 10:22:52 UTC ┆             │\n",
      "│ 1_UCKSs88fw ┆ UgzBB08HCN4oGVJBOm ┆ UCvQhD3wkSMaWTnL1N ┆ Je me répète       ┆ 0          ┆ 2025-01-28   ┆ 0           │\n",
      "│             ┆ d4AaABAg           ┆ 4x374g             ┆ souvent mais je n… ┆            ┆ 11:41:38 UTC ┆             │\n",
      "│ 1_UCKSs88fw ┆ Ugw8_vA0E5gFoI1XWf ┆ UCQ_NrezUEFwFnxfNp ┆ Pour en finir avec ┆ 0          ┆ 2025-01-28   ┆ 0           │\n",
      "│             ┆ p4AaABAg           ┆ 8sw0RA             ┆ une politiq…       ┆            ┆ 04:05:34 UTC ┆             │\n",
      "│ 1_UCKSs88fw ┆ UgwQKKLLdz0w0xbMME ┆ UCQ_NrezUEFwFnxfNp ┆ Tous ces BOURGEOIS ┆ 0          ┆ 2025-01-28   ┆ 0           │\n",
      "│             ┆ 94AaABAg           ┆ 8sw0RA             ┆ CORROMPUS s…       ┆            ┆ 03:54:17 UTC ┆             │\n",
      "│ 1_UCKSs88fw ┆ UgxJapqDAoCCwXerAG ┆ UCQ_NrezUEFwFnxfNp ┆ Vous avez          ┆ 0          ┆ 2025-01-28   ┆ null        │\n",
      "│             ┆ Z4AaABAg.ADl…      ┆ 8sw0RA             ┆ tout-à-fait raison ┆            ┆ 04:18:07 UTC ┆             │\n",
      "│             ┆                    ┆                    ┆ !…                 ┆            ┆              ┆             │\n",
      "└─────────────┴────────────────────┴────────────────────┴────────────────────┴────────────┴──────────────┴─────────────┘\n"
     ]
    }
   ],
   "source": [
    "# Ici j'ai pris le 26 à minuit en référence, mais on pourrait prendre le 27 à minuit pour exclure les commentaire publiés le 26\n",
    "print(df.filter(pl.col(\"published_at\") > pl.datetime(2025,1,27,0,0,0,0).dt.replace_time_zone(\"UTC\"))) "
   ]
  },
  {
   "cell_type": "markdown",
   "id": "17ce204b-3402-4018-b941-40d9a26fa175",
   "metadata": {},
   "source": [
    "## print(df.filter(pl.col(\"channel_id\") == \"UCziyASnhF8UV7kqhcAAM9ww\"))  \n",
    "6. Afficher les commentaires de \"UCziyASnhF8UV7kqhcAAM9ww\" (il s'agit d'un channel_id)\n"
   ]
  },
  {
   "cell_type": "code",
   "execution_count": 33,
   "id": "8bf8ceee-c9fb-4622-9862-fd992711e1fc",
   "metadata": {},
   "outputs": [
    {
     "name": "stdout",
     "output_type": "stream",
     "text": [
      "shape: (2, 7)\n",
      "┌─────────────┬──────────────────────┬──────────────────────┬────────────────┬────────────┬──────────────┬─────────────┐\n",
      "│ video_id    ┆ comment_id           ┆ channel_id           ┆ text           ┆ like_count ┆ published_at ┆ reply_count │\n",
      "│ ---         ┆ ---                  ┆ ---                  ┆ ---            ┆ ---        ┆ ---          ┆ ---         │\n",
      "│ str         ┆ str                  ┆ str                  ┆ str            ┆ i64        ┆ datetime[μs, ┆ i64         │\n",
      "│             ┆                      ┆                      ┆                ┆            ┆ UTC]         ┆             │\n",
      "╞═════════════╪══════════════════════╪══════════════════════╪════════════════╪════════════╪══════════════╪═════════════╡\n",
      "│ 1_UCKSs88fw ┆ UgwvQiKHeKKBI3RpHYl4 ┆ UCziyASnhF8UV7kqhcAA ┆ se croient-ils ┆ 0          ┆ 2025-01-30   ┆ 0           │\n",
      "│             ┆ AaABAg               ┆ M9ww                 ┆                ┆            ┆ 07:00:54 UTC ┆             │\n",
      "│ 1_UCKSs88fw ┆ Ugy01p1GwJ3LdW_w28Z4 ┆ UCziyASnhF8UV7kqhcAA ┆ A force d’     ┆ 0          ┆ 2025-01-30   ┆ 0           │\n",
      "│             ┆ AaABAg               ┆ M9ww                 ┆ entendre des   ┆            ┆ 06:59:38 UTC ┆             │\n",
      "│             ┆                      ┆                      ┆ menteu…        ┆            ┆              ┆             │\n",
      "└─────────────┴──────────────────────┴──────────────────────┴────────────────┴────────────┴──────────────┴─────────────┘\n"
     ]
    }
   ],
   "source": [
    "print(df.filter(pl.col(\"channel_id\") == \"UCziyASnhF8UV7kqhcAAM9ww\"))  \n"
   ]
  },
  {
   "cell_type": "markdown",
   "id": "20f395bd-f930-45e7-92ef-ed9157dfd339",
   "metadata": {},
   "source": [
    "## 7. Diviser tous les éléments dans la colonne like_count par 2\n"
   ]
  },
  {
   "cell_type": "code",
   "execution_count": 34,
   "id": "737b6964-bb15-417c-8ce4-b353b00a9692",
   "metadata": {},
   "outputs": [
    {
     "name": "stdout",
     "output_type": "stream",
     "text": [
      "shape: (42, 8)\n",
      "┌─────────────┬───────────────┬───────────────┬───────────────┬────────────┬──────────────┬─────────────┬──────────────┐\n",
      "│ video_id    ┆ comment_id    ┆ channel_id    ┆ text          ┆ like_count ┆ published_at ┆ reply_count ┆ like_count_h │\n",
      "│ ---         ┆ ---           ┆ ---           ┆ ---           ┆ ---        ┆ ---          ┆ ---         ┆ alf          │\n",
      "│ str         ┆ str           ┆ str           ┆ str           ┆ i64        ┆ datetime[μs, ┆ i64         ┆ ---          │\n",
      "│             ┆               ┆               ┆               ┆            ┆ UTC]         ┆             ┆ f64          │\n",
      "╞═════════════╪═══════════════╪═══════════════╪═══════════════╪════════════╪══════════════╪═════════════╪══════════════╡\n",
      "│ 1_UCKSs88fw ┆ UgwiW_SF2VCch ┆ UC9hHeywcPBnL ┆ VIDÉO LIÉE :  ┆ 159        ┆ 2025-01-19   ┆ 10          ┆ 79.5         │\n",
      "│             ┆ kX8gwd4AaABAg ┆ glqnQRaNShQ   ┆               ┆            ┆ 16:50:00 UTC ┆             ┆              │\n",
      "│             ┆               ┆               ┆ NON, MACRON   ┆            ┆              ┆             ┆              │\n",
      "│             ┆               ┆               ┆ NE «…         ┆            ┆              ┆             ┆              │\n",
      "│ 1_UCKSs88fw ┆ UgybOcLb7BR5P ┆ UCW8cAAFV50hf ┆ C'est quoi le ┆ 0          ┆ 2025-02-03   ┆ 0           ┆ 0.0          │\n",
      "│             ┆ CSVG994AaABAg ┆ iktZp2BZZvA   ┆ nom de la     ┆            ┆ 14:31:23 UTC ┆             ┆              │\n",
      "│             ┆               ┆               ┆ musiqu…       ┆            ┆              ┆             ┆              │\n",
      "│ 1_UCKSs88fw ┆ Ugw1kBEnQ3J1m ┆ UCI--K5E29-eK ┆ Ok mais       ┆ 0          ┆ 2025-02-03   ┆ 0           ┆ 0.0          │\n",
      "│             ┆ NRCVoh4AaABAg ┆ -2s_QbpIgzA   ┆ maintenant    ┆            ┆ 14:08:32 UTC ┆             ┆              │\n",
      "│             ┆               ┆               ┆ qu’on a tou…  ┆            ┆              ┆             ┆              │\n",
      "│ 1_UCKSs88fw ┆ UgykgAiDn2VBv ┆ UCOkVLaKsD4zg ┆ Ces gens sont ┆ 0          ┆ 2025-02-02   ┆ 0           ┆ 0.0          │\n",
      "│             ┆ DjHDR54AaABAg ┆ YcHgwZ7Pkzw   ┆ complètement  ┆            ┆ 20:02:38 UTC ┆             ┆              │\n",
      "│             ┆               ┆               ┆ fou…          ┆            ┆              ┆             ┆              │\n",
      "│ 1_UCKSs88fw ┆ Ugx1gH5fU1Xil ┆ UCaVyeJ4gCb5Z ┆ Mi            ┆ 0          ┆ 2025-02-02   ┆ 0           ┆ 0.0          │\n",
      "│             ┆ xY4gLt4AaABAg ┆ yiMffkfpk1g   ┆ physiocrate,  ┆            ┆ 13:04:20 UTC ┆             ┆              │\n",
      "│             ┆               ┆               ┆ mi communiste ┆            ┆              ┆             ┆              │\n",
      "│             ┆               ┆               ┆ …             ┆            ┆              ┆             ┆              │\n",
      "│ …           ┆ …             ┆ …             ┆ …             ┆ …          ┆ …            ┆ …           ┆ …            │\n",
      "│ 1_UCKSs88fw ┆ UgzpAS7ZaMnxW ┆ UCv06xcfTqcNo ┆ La chine      ┆ 0          ┆ 2025-01-24   ┆ 0           ┆ 0.0          │\n",
      "│             ┆ KpuyYN4AaABAg ┆ NzJaD_Y0Fvg   ┆ pille la      ┆            ┆ 15:58:21 UTC ┆             ┆              │\n",
      "│             ┆               ┆               ┆ russie quel.… ┆            ┆              ┆             ┆              │\n",
      "│ 1_UCKSs88fw ┆ UgxCyVjMqBMyZ ┆ UCgFW3RfwhoPi ┆ Bonjour, j'ai ┆ 0          ┆ 2025-01-24   ┆ 0           ┆ 0.0          │\n",
      "│             ┆ 6aNLHt4AaABAg ┆ uz3v_ces--A   ┆ partagé sur   ┆            ┆ 11:54:57 UTC ┆             ┆              │\n",
      "│             ┆               ┆               ┆ face…         ┆            ┆              ┆             ┆              │\n",
      "│ 1_UCKSs88fw ┆ UgyyBbiCojGOX ┆ UC6FBDegLBbVO ┆ https://youtu ┆ 0          ┆ 2025-01-24   ┆ 0           ┆ 0.0          │\n",
      "│             ┆ vusEnx4AaABAg ┆ IGtMIX6g0Dw   ┆ .be/4ZDeMpl2g ┆            ┆ 10:12:13 UTC ┆             ┆              │\n",
      "│             ┆               ┆               ┆ dQ            ┆            ┆              ┆             ┆              │\n",
      "│ 1_UCKSs88fw ┆ UgxwK0ZSmsixS ┆ UCmCzI0eDRroB ┆ Imposteur     ┆ 0          ┆ 2025-01-24   ┆ 0           ┆ 0.0          │\n",
      "│             ┆ nLHLxp4AaABAg ┆ Zd_0XAQ2r3w   ┆ Bruno LEMAIRE ┆            ┆ 06:51:07 UTC ┆             ┆              │\n",
      "│ 1_UCKSs88fw ┆ UgzbsE1b7nLSw ┆ UCr1tM3PyXSO7 ┆ 14:46 : je ne ┆ 0          ┆ 2025-01-23   ┆ 0           ┆ 0.0          │\n",
      "│             ┆ 5dQWwR4AaABAg ┆ f8-n1Vb1dpw   ┆ savais pas    ┆            ┆ 21:45:54 UTC ┆             ┆              │\n",
      "│             ┆               ┆               ┆ qu'on…        ┆            ┆              ┆             ┆              │\n",
      "└─────────────┴───────────────┴───────────────┴───────────────┴────────────┴──────────────┴─────────────┴──────────────┘\n"
     ]
    }
   ],
   "source": [
    "print(df.with_columns((pl.col(\"like_count\")/2).alias(\"like_count_half\")))  "
   ]
  },
  {
   "cell_type": "markdown",
   "id": "83a1d5da-29f0-4ca9-a9f2-78e7af1ac04a",
   "metadata": {},
   "source": [
    "Sur le fichier *videos_id* :\n"
   ]
  },
  {
   "cell_type": "code",
   "execution_count": 35,
   "id": "8ec8a4ca-e6d2-4c5d-babc-35674eb87949",
   "metadata": {},
   "outputs": [],
   "source": [
    "df = pl.read_csv(\"videos.csv\", separator=\",\")"
   ]
  },
  {
   "cell_type": "markdown",
   "id": "6ba114db-a681-46be-8126-c651819433d8",
   "metadata": {},
   "source": [
    "## 1. Quelle est la moyenne du nombre de likes pour les vidéos avec un nombre de vues supérieur à 70 000 ?\n"
   ]
  },
  {
   "cell_type": "code",
   "execution_count": 36,
   "id": "e3c8c945-d66c-414c-9bd9-f7e109020c44",
   "metadata": {},
   "outputs": [
    {
     "name": "stdout",
     "output_type": "stream",
     "text": [
      "11667.102362204725\n"
     ]
    }
   ],
   "source": [
    "print(df.filter(pl.col(\"view_count\") > 70000)[\"like_count\"].mean())\n"
   ]
  },
  {
   "cell_type": "markdown",
   "id": "210dc1b5-6270-4f6c-86de-b7cffbd0a97f",
   "metadata": {},
   "source": [
    "## 2. Quelle est la somme du nombre de likes pour les vidéos sans transcriptions ?\n"
   ]
  },
  {
   "cell_type": "code",
   "execution_count": 37,
   "id": "f8e6967c-aa9d-4597-a5ae-750979b302e6",
   "metadata": {},
   "outputs": [
    {
     "name": "stdout",
     "output_type": "stream",
     "text": [
      "198939\n"
     ]
    }
   ],
   "source": [
    "print(df.filter(pl.col(\"has_captions\") == True)[\"like_count\"].sum())"
   ]
  },
  {
   "cell_type": "markdown",
   "id": "f09a9104-73ee-446b-9827-63eae5e7d736",
   "metadata": {},
   "source": [
    "## 3. Enregistrer dans un fichier CSV \"question_3.csv\" les vidéos de la catégorie \"Entertainment\"\n"
   ]
  },
  {
   "cell_type": "code",
   "execution_count": 38,
   "id": "8388cc23-4e4f-4248-9d42-36dff3606d5d",
   "metadata": {},
   "outputs": [],
   "source": [
    "df_entertainment = df.filter(pl.col(\"category\") == \"Entertainment\")\n",
    "df_entertainment.write_csv(\"question_3.csv\")"
   ]
  },
  {
   "cell_type": "markdown",
   "id": "59b978d7-1190-45e4-9bbc-c3681984798b",
   "metadata": {},
   "source": [
    "## 4. Enregistrer dans un fichier JSON \"question_4.json\" uniquement les colonnes \"channel_id\" et \"tags\"\n"
   ]
  },
  {
   "cell_type": "code",
   "execution_count": 40,
   "id": "35428816-6b3d-4895-ad44-0683de90210f",
   "metadata": {},
   "outputs": [],
   "source": [
    "df.select([\"channel_id\", \"tags\"]).write_json(\"question_4.json\")"
   ]
  }
 ],
 "metadata": {
  "kernelspec": {
   "display_name": "Python 3 (ipykernel)",
   "language": "python",
   "name": "python3"
  },
  "language_info": {
   "codemirror_mode": {
    "name": "ipython",
    "version": 3
   },
   "file_extension": ".py",
   "mimetype": "text/x-python",
   "name": "python",
   "nbconvert_exporter": "python",
   "pygments_lexer": "ipython3",
   "version": "3.11.8"
  }
 },
 "nbformat": 4,
 "nbformat_minor": 5
}
